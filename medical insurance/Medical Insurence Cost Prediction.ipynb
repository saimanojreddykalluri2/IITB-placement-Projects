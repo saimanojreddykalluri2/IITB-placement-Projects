{
 "cells": [
  {
   "cell_type": "code",
   "execution_count": 5,
   "id": "423afa41",
   "metadata": {
    "execution": {
     "iopub.execute_input": "2022-07-05T18:13:13.865803Z",
     "iopub.status.busy": "2022-07-05T18:13:13.865078Z",
     "iopub.status.idle": "2022-07-05T18:13:14.883901Z",
     "shell.execute_reply": "2022-07-05T18:13:14.882850Z"
    },
    "papermill": {
     "duration": 1.056096,
     "end_time": "2022-07-05T18:13:14.886796",
     "exception": false,
     "start_time": "2022-07-05T18:13:13.830700",
     "status": "completed"
    },
    "tags": []
   },
   "outputs": [],
   "source": [
    "## Importing the libraries\n",
    "\n",
    "import pandas as pd ## pandas is used to manipulate the dataframe\n",
    "import numpy as np ## numpy is used to do scientific calculation\n",
    "import matplotlib.pyplot as plt ## matplotlib is used for visualization\n",
    "import seaborn as sns ## seaborn is used for visualization\n",
    "%matplotlib inline\n",
    "import warnings ## used to remove warnings\n",
    "warnings.filterwarnings('ignore')"
   ]
  },
  {
   "cell_type": "code",
   "execution_count": 6,
   "id": "ef2d5bbf",
   "metadata": {
    "execution": {
     "iopub.execute_input": "2022-07-05T18:13:14.954225Z",
     "iopub.status.busy": "2022-07-05T18:13:14.953744Z",
     "iopub.status.idle": "2022-07-05T18:13:14.974445Z",
     "shell.execute_reply": "2022-07-05T18:13:14.973651Z"
    },
    "papermill": {
     "duration": 0.057529,
     "end_time": "2022-07-05T18:13:14.976685",
     "exception": false,
     "start_time": "2022-07-05T18:13:14.919156",
     "status": "completed"
    },
    "tags": []
   },
   "outputs": [],
   "source": [
    "## Importing the data\n",
    "\n",
    "data=pd.read_csv('insurance.csv')"
   ]
  },
  {
   "cell_type": "code",
   "execution_count": 7,
   "id": "f3d61b56",
   "metadata": {
    "execution": {
     "iopub.execute_input": "2022-07-05T18:13:15.045340Z",
     "iopub.status.busy": "2022-07-05T18:13:15.044261Z",
     "iopub.status.idle": "2022-07-05T18:13:15.070947Z",
     "shell.execute_reply": "2022-07-05T18:13:15.070243Z"
    },
    "papermill": {
     "duration": 0.063031,
     "end_time": "2022-07-05T18:13:15.073037",
     "exception": false,
     "start_time": "2022-07-05T18:13:15.010006",
     "status": "completed"
    },
    "tags": []
   },
   "outputs": [
    {
     "data": {
      "text/html": [
       "<div>\n",
       "<style scoped>\n",
       "    .dataframe tbody tr th:only-of-type {\n",
       "        vertical-align: middle;\n",
       "    }\n",
       "\n",
       "    .dataframe tbody tr th {\n",
       "        vertical-align: top;\n",
       "    }\n",
       "\n",
       "    .dataframe thead th {\n",
       "        text-align: right;\n",
       "    }\n",
       "</style>\n",
       "<table border=\"1\" class=\"dataframe\">\n",
       "  <thead>\n",
       "    <tr style=\"text-align: right;\">\n",
       "      <th></th>\n",
       "      <th>age</th>\n",
       "      <th>sex</th>\n",
       "      <th>bmi</th>\n",
       "      <th>children</th>\n",
       "      <th>smoker</th>\n",
       "      <th>region</th>\n",
       "      <th>charges</th>\n",
       "    </tr>\n",
       "  </thead>\n",
       "  <tbody>\n",
       "    <tr>\n",
       "      <th>0</th>\n",
       "      <td>19</td>\n",
       "      <td>female</td>\n",
       "      <td>27.900</td>\n",
       "      <td>0</td>\n",
       "      <td>yes</td>\n",
       "      <td>southwest</td>\n",
       "      <td>16884.92400</td>\n",
       "    </tr>\n",
       "    <tr>\n",
       "      <th>1</th>\n",
       "      <td>18</td>\n",
       "      <td>male</td>\n",
       "      <td>33.770</td>\n",
       "      <td>1</td>\n",
       "      <td>no</td>\n",
       "      <td>southeast</td>\n",
       "      <td>1725.55230</td>\n",
       "    </tr>\n",
       "    <tr>\n",
       "      <th>2</th>\n",
       "      <td>28</td>\n",
       "      <td>male</td>\n",
       "      <td>33.000</td>\n",
       "      <td>3</td>\n",
       "      <td>no</td>\n",
       "      <td>southeast</td>\n",
       "      <td>4449.46200</td>\n",
       "    </tr>\n",
       "    <tr>\n",
       "      <th>3</th>\n",
       "      <td>33</td>\n",
       "      <td>male</td>\n",
       "      <td>22.705</td>\n",
       "      <td>0</td>\n",
       "      <td>no</td>\n",
       "      <td>northwest</td>\n",
       "      <td>21984.47061</td>\n",
       "    </tr>\n",
       "    <tr>\n",
       "      <th>4</th>\n",
       "      <td>32</td>\n",
       "      <td>male</td>\n",
       "      <td>28.880</td>\n",
       "      <td>0</td>\n",
       "      <td>no</td>\n",
       "      <td>northwest</td>\n",
       "      <td>3866.85520</td>\n",
       "    </tr>\n",
       "    <tr>\n",
       "      <th>...</th>\n",
       "      <td>...</td>\n",
       "      <td>...</td>\n",
       "      <td>...</td>\n",
       "      <td>...</td>\n",
       "      <td>...</td>\n",
       "      <td>...</td>\n",
       "      <td>...</td>\n",
       "    </tr>\n",
       "    <tr>\n",
       "      <th>1333</th>\n",
       "      <td>50</td>\n",
       "      <td>male</td>\n",
       "      <td>30.970</td>\n",
       "      <td>3</td>\n",
       "      <td>no</td>\n",
       "      <td>northwest</td>\n",
       "      <td>10600.54830</td>\n",
       "    </tr>\n",
       "    <tr>\n",
       "      <th>1334</th>\n",
       "      <td>18</td>\n",
       "      <td>female</td>\n",
       "      <td>31.920</td>\n",
       "      <td>0</td>\n",
       "      <td>no</td>\n",
       "      <td>northeast</td>\n",
       "      <td>2205.98080</td>\n",
       "    </tr>\n",
       "    <tr>\n",
       "      <th>1335</th>\n",
       "      <td>18</td>\n",
       "      <td>female</td>\n",
       "      <td>36.850</td>\n",
       "      <td>0</td>\n",
       "      <td>no</td>\n",
       "      <td>southeast</td>\n",
       "      <td>1629.83350</td>\n",
       "    </tr>\n",
       "    <tr>\n",
       "      <th>1336</th>\n",
       "      <td>21</td>\n",
       "      <td>female</td>\n",
       "      <td>25.800</td>\n",
       "      <td>0</td>\n",
       "      <td>no</td>\n",
       "      <td>southwest</td>\n",
       "      <td>2007.94500</td>\n",
       "    </tr>\n",
       "    <tr>\n",
       "      <th>1337</th>\n",
       "      <td>61</td>\n",
       "      <td>female</td>\n",
       "      <td>29.070</td>\n",
       "      <td>0</td>\n",
       "      <td>yes</td>\n",
       "      <td>northwest</td>\n",
       "      <td>29141.36030</td>\n",
       "    </tr>\n",
       "  </tbody>\n",
       "</table>\n",
       "<p>1338 rows × 7 columns</p>\n",
       "</div>"
      ],
      "text/plain": [
       "      age     sex     bmi  children smoker     region      charges\n",
       "0      19  female  27.900         0    yes  southwest  16884.92400\n",
       "1      18    male  33.770         1     no  southeast   1725.55230\n",
       "2      28    male  33.000         3     no  southeast   4449.46200\n",
       "3      33    male  22.705         0     no  northwest  21984.47061\n",
       "4      32    male  28.880         0     no  northwest   3866.85520\n",
       "...   ...     ...     ...       ...    ...        ...          ...\n",
       "1333   50    male  30.970         3     no  northwest  10600.54830\n",
       "1334   18  female  31.920         0     no  northeast   2205.98080\n",
       "1335   18  female  36.850         0     no  southeast   1629.83350\n",
       "1336   21  female  25.800         0     no  southwest   2007.94500\n",
       "1337   61  female  29.070         0    yes  northwest  29141.36030\n",
       "\n",
       "[1338 rows x 7 columns]"
      ]
     },
     "execution_count": 7,
     "metadata": {},
     "output_type": "execute_result"
    }
   ],
   "source": [
    "## Getting the data\n",
    "\n",
    "data"
   ]
  },
  {
   "cell_type": "markdown",
   "id": "cba201f1",
   "metadata": {
    "papermill": {
     "duration": 0.033884,
     "end_time": "2022-07-05T18:13:15.140069",
     "exception": false,
     "start_time": "2022-07-05T18:13:15.106185",
     "status": "completed"
    },
    "tags": []
   },
   "source": [
    "## Basic checks"
   ]
  },
  {
   "cell_type": "code",
   "execution_count": 8,
   "id": "742338ba",
   "metadata": {
    "execution": {
     "iopub.execute_input": "2022-07-05T18:13:15.208984Z",
     "iopub.status.busy": "2022-07-05T18:13:15.208604Z",
     "iopub.status.idle": "2022-07-05T18:13:15.222746Z",
     "shell.execute_reply": "2022-07-05T18:13:15.221725Z"
    },
    "papermill": {
     "duration": 0.051192,
     "end_time": "2022-07-05T18:13:15.224763",
     "exception": false,
     "start_time": "2022-07-05T18:13:15.173571",
     "status": "completed"
    },
    "tags": []
   },
   "outputs": [
    {
     "data": {
      "text/html": [
       "<div>\n",
       "<style scoped>\n",
       "    .dataframe tbody tr th:only-of-type {\n",
       "        vertical-align: middle;\n",
       "    }\n",
       "\n",
       "    .dataframe tbody tr th {\n",
       "        vertical-align: top;\n",
       "    }\n",
       "\n",
       "    .dataframe thead th {\n",
       "        text-align: right;\n",
       "    }\n",
       "</style>\n",
       "<table border=\"1\" class=\"dataframe\">\n",
       "  <thead>\n",
       "    <tr style=\"text-align: right;\">\n",
       "      <th></th>\n",
       "      <th>age</th>\n",
       "      <th>sex</th>\n",
       "      <th>bmi</th>\n",
       "      <th>children</th>\n",
       "      <th>smoker</th>\n",
       "      <th>region</th>\n",
       "      <th>charges</th>\n",
       "    </tr>\n",
       "  </thead>\n",
       "  <tbody>\n",
       "    <tr>\n",
       "      <th>0</th>\n",
       "      <td>19</td>\n",
       "      <td>female</td>\n",
       "      <td>27.900</td>\n",
       "      <td>0</td>\n",
       "      <td>yes</td>\n",
       "      <td>southwest</td>\n",
       "      <td>16884.92400</td>\n",
       "    </tr>\n",
       "    <tr>\n",
       "      <th>1</th>\n",
       "      <td>18</td>\n",
       "      <td>male</td>\n",
       "      <td>33.770</td>\n",
       "      <td>1</td>\n",
       "      <td>no</td>\n",
       "      <td>southeast</td>\n",
       "      <td>1725.55230</td>\n",
       "    </tr>\n",
       "    <tr>\n",
       "      <th>2</th>\n",
       "      <td>28</td>\n",
       "      <td>male</td>\n",
       "      <td>33.000</td>\n",
       "      <td>3</td>\n",
       "      <td>no</td>\n",
       "      <td>southeast</td>\n",
       "      <td>4449.46200</td>\n",
       "    </tr>\n",
       "    <tr>\n",
       "      <th>3</th>\n",
       "      <td>33</td>\n",
       "      <td>male</td>\n",
       "      <td>22.705</td>\n",
       "      <td>0</td>\n",
       "      <td>no</td>\n",
       "      <td>northwest</td>\n",
       "      <td>21984.47061</td>\n",
       "    </tr>\n",
       "    <tr>\n",
       "      <th>4</th>\n",
       "      <td>32</td>\n",
       "      <td>male</td>\n",
       "      <td>28.880</td>\n",
       "      <td>0</td>\n",
       "      <td>no</td>\n",
       "      <td>northwest</td>\n",
       "      <td>3866.85520</td>\n",
       "    </tr>\n",
       "  </tbody>\n",
       "</table>\n",
       "</div>"
      ],
      "text/plain": [
       "   age     sex     bmi  children smoker     region      charges\n",
       "0   19  female  27.900         0    yes  southwest  16884.92400\n",
       "1   18    male  33.770         1     no  southeast   1725.55230\n",
       "2   28    male  33.000         3     no  southeast   4449.46200\n",
       "3   33    male  22.705         0     no  northwest  21984.47061\n",
       "4   32    male  28.880         0     no  northwest   3866.85520"
      ]
     },
     "execution_count": 8,
     "metadata": {},
     "output_type": "execute_result"
    }
   ],
   "source": [
    "data.head() ## getting the first five rows of the data"
   ]
  },
  {
   "cell_type": "code",
   "execution_count": 9,
   "id": "a602b0d1",
   "metadata": {
    "execution": {
     "iopub.execute_input": "2022-07-05T18:13:15.294376Z",
     "iopub.status.busy": "2022-07-05T18:13:15.293999Z",
     "iopub.status.idle": "2022-07-05T18:13:15.308260Z",
     "shell.execute_reply": "2022-07-05T18:13:15.307211Z"
    },
    "papermill": {
     "duration": 0.051838,
     "end_time": "2022-07-05T18:13:15.310385",
     "exception": false,
     "start_time": "2022-07-05T18:13:15.258547",
     "status": "completed"
    },
    "tags": []
   },
   "outputs": [
    {
     "data": {
      "text/html": [
       "<div>\n",
       "<style scoped>\n",
       "    .dataframe tbody tr th:only-of-type {\n",
       "        vertical-align: middle;\n",
       "    }\n",
       "\n",
       "    .dataframe tbody tr th {\n",
       "        vertical-align: top;\n",
       "    }\n",
       "\n",
       "    .dataframe thead th {\n",
       "        text-align: right;\n",
       "    }\n",
       "</style>\n",
       "<table border=\"1\" class=\"dataframe\">\n",
       "  <thead>\n",
       "    <tr style=\"text-align: right;\">\n",
       "      <th></th>\n",
       "      <th>age</th>\n",
       "      <th>sex</th>\n",
       "      <th>bmi</th>\n",
       "      <th>children</th>\n",
       "      <th>smoker</th>\n",
       "      <th>region</th>\n",
       "      <th>charges</th>\n",
       "    </tr>\n",
       "  </thead>\n",
       "  <tbody>\n",
       "    <tr>\n",
       "      <th>1333</th>\n",
       "      <td>50</td>\n",
       "      <td>male</td>\n",
       "      <td>30.97</td>\n",
       "      <td>3</td>\n",
       "      <td>no</td>\n",
       "      <td>northwest</td>\n",
       "      <td>10600.5483</td>\n",
       "    </tr>\n",
       "    <tr>\n",
       "      <th>1334</th>\n",
       "      <td>18</td>\n",
       "      <td>female</td>\n",
       "      <td>31.92</td>\n",
       "      <td>0</td>\n",
       "      <td>no</td>\n",
       "      <td>northeast</td>\n",
       "      <td>2205.9808</td>\n",
       "    </tr>\n",
       "    <tr>\n",
       "      <th>1335</th>\n",
       "      <td>18</td>\n",
       "      <td>female</td>\n",
       "      <td>36.85</td>\n",
       "      <td>0</td>\n",
       "      <td>no</td>\n",
       "      <td>southeast</td>\n",
       "      <td>1629.8335</td>\n",
       "    </tr>\n",
       "    <tr>\n",
       "      <th>1336</th>\n",
       "      <td>21</td>\n",
       "      <td>female</td>\n",
       "      <td>25.80</td>\n",
       "      <td>0</td>\n",
       "      <td>no</td>\n",
       "      <td>southwest</td>\n",
       "      <td>2007.9450</td>\n",
       "    </tr>\n",
       "    <tr>\n",
       "      <th>1337</th>\n",
       "      <td>61</td>\n",
       "      <td>female</td>\n",
       "      <td>29.07</td>\n",
       "      <td>0</td>\n",
       "      <td>yes</td>\n",
       "      <td>northwest</td>\n",
       "      <td>29141.3603</td>\n",
       "    </tr>\n",
       "  </tbody>\n",
       "</table>\n",
       "</div>"
      ],
      "text/plain": [
       "      age     sex    bmi  children smoker     region     charges\n",
       "1333   50    male  30.97         3     no  northwest  10600.5483\n",
       "1334   18  female  31.92         0     no  northeast   2205.9808\n",
       "1335   18  female  36.85         0     no  southeast   1629.8335\n",
       "1336   21  female  25.80         0     no  southwest   2007.9450\n",
       "1337   61  female  29.07         0    yes  northwest  29141.3603"
      ]
     },
     "execution_count": 9,
     "metadata": {},
     "output_type": "execute_result"
    }
   ],
   "source": [
    "data.tail() ## getting the last five rows of the data"
   ]
  },
  {
   "cell_type": "code",
   "execution_count": 10,
   "id": "8092e883",
   "metadata": {
    "execution": {
     "iopub.execute_input": "2022-07-05T18:13:15.379762Z",
     "iopub.status.busy": "2022-07-05T18:13:15.379370Z",
     "iopub.status.idle": "2022-07-05T18:13:15.408668Z",
     "shell.execute_reply": "2022-07-05T18:13:15.407937Z"
    },
    "papermill": {
     "duration": 0.06654,
     "end_time": "2022-07-05T18:13:15.410595",
     "exception": false,
     "start_time": "2022-07-05T18:13:15.344055",
     "status": "completed"
    },
    "tags": []
   },
   "outputs": [
    {
     "data": {
      "text/html": [
       "<div>\n",
       "<style scoped>\n",
       "    .dataframe tbody tr th:only-of-type {\n",
       "        vertical-align: middle;\n",
       "    }\n",
       "\n",
       "    .dataframe tbody tr th {\n",
       "        vertical-align: top;\n",
       "    }\n",
       "\n",
       "    .dataframe thead th {\n",
       "        text-align: right;\n",
       "    }\n",
       "</style>\n",
       "<table border=\"1\" class=\"dataframe\">\n",
       "  <thead>\n",
       "    <tr style=\"text-align: right;\">\n",
       "      <th></th>\n",
       "      <th>age</th>\n",
       "      <th>bmi</th>\n",
       "      <th>children</th>\n",
       "      <th>charges</th>\n",
       "    </tr>\n",
       "  </thead>\n",
       "  <tbody>\n",
       "    <tr>\n",
       "      <th>count</th>\n",
       "      <td>1338.000000</td>\n",
       "      <td>1338.000000</td>\n",
       "      <td>1338.000000</td>\n",
       "      <td>1338.000000</td>\n",
       "    </tr>\n",
       "    <tr>\n",
       "      <th>mean</th>\n",
       "      <td>39.207025</td>\n",
       "      <td>30.663397</td>\n",
       "      <td>1.094918</td>\n",
       "      <td>13270.422265</td>\n",
       "    </tr>\n",
       "    <tr>\n",
       "      <th>std</th>\n",
       "      <td>14.049960</td>\n",
       "      <td>6.098187</td>\n",
       "      <td>1.205493</td>\n",
       "      <td>12110.011237</td>\n",
       "    </tr>\n",
       "    <tr>\n",
       "      <th>min</th>\n",
       "      <td>18.000000</td>\n",
       "      <td>15.960000</td>\n",
       "      <td>0.000000</td>\n",
       "      <td>1121.873900</td>\n",
       "    </tr>\n",
       "    <tr>\n",
       "      <th>25%</th>\n",
       "      <td>27.000000</td>\n",
       "      <td>26.296250</td>\n",
       "      <td>0.000000</td>\n",
       "      <td>4740.287150</td>\n",
       "    </tr>\n",
       "    <tr>\n",
       "      <th>50%</th>\n",
       "      <td>39.000000</td>\n",
       "      <td>30.400000</td>\n",
       "      <td>1.000000</td>\n",
       "      <td>9382.033000</td>\n",
       "    </tr>\n",
       "    <tr>\n",
       "      <th>75%</th>\n",
       "      <td>51.000000</td>\n",
       "      <td>34.693750</td>\n",
       "      <td>2.000000</td>\n",
       "      <td>16639.912515</td>\n",
       "    </tr>\n",
       "    <tr>\n",
       "      <th>max</th>\n",
       "      <td>64.000000</td>\n",
       "      <td>53.130000</td>\n",
       "      <td>5.000000</td>\n",
       "      <td>63770.428010</td>\n",
       "    </tr>\n",
       "  </tbody>\n",
       "</table>\n",
       "</div>"
      ],
      "text/plain": [
       "               age          bmi     children       charges\n",
       "count  1338.000000  1338.000000  1338.000000   1338.000000\n",
       "mean     39.207025    30.663397     1.094918  13270.422265\n",
       "std      14.049960     6.098187     1.205493  12110.011237\n",
       "min      18.000000    15.960000     0.000000   1121.873900\n",
       "25%      27.000000    26.296250     0.000000   4740.287150\n",
       "50%      39.000000    30.400000     1.000000   9382.033000\n",
       "75%      51.000000    34.693750     2.000000  16639.912515\n",
       "max      64.000000    53.130000     5.000000  63770.428010"
      ]
     },
     "execution_count": 10,
     "metadata": {},
     "output_type": "execute_result"
    }
   ],
   "source": [
    "data.describe()  ## getting the descriptive statistical details  of the dataframe"
   ]
  },
  {
   "cell_type": "code",
   "execution_count": 11,
   "id": "5c46ecdb",
   "metadata": {
    "execution": {
     "iopub.execute_input": "2022-07-05T18:13:15.481827Z",
     "iopub.status.busy": "2022-07-05T18:13:15.480840Z",
     "iopub.status.idle": "2022-07-05T18:13:15.497271Z",
     "shell.execute_reply": "2022-07-05T18:13:15.495672Z"
    },
    "papermill": {
     "duration": 0.054902,
     "end_time": "2022-07-05T18:13:15.499542",
     "exception": false,
     "start_time": "2022-07-05T18:13:15.444640",
     "status": "completed"
    },
    "tags": []
   },
   "outputs": [
    {
     "name": "stdout",
     "output_type": "stream",
     "text": [
      "<class 'pandas.core.frame.DataFrame'>\n",
      "RangeIndex: 1338 entries, 0 to 1337\n",
      "Data columns (total 7 columns):\n",
      " #   Column    Non-Null Count  Dtype  \n",
      "---  ------    --------------  -----  \n",
      " 0   age       1338 non-null   int64  \n",
      " 1   sex       1338 non-null   object \n",
      " 2   bmi       1338 non-null   float64\n",
      " 3   children  1338 non-null   int64  \n",
      " 4   smoker    1338 non-null   object \n",
      " 5   region    1338 non-null   object \n",
      " 6   charges   1338 non-null   float64\n",
      "dtypes: float64(2), int64(2), object(3)\n",
      "memory usage: 73.3+ KB\n"
     ]
    }
   ],
   "source": [
    "data.info() ## getting the information of the dataframe"
   ]
  },
  {
   "cell_type": "markdown",
   "id": "f767bd15",
   "metadata": {
    "papermill": {
     "duration": 0.034612,
     "end_time": "2022-07-05T18:13:15.568353",
     "exception": false,
     "start_time": "2022-07-05T18:13:15.533741",
     "status": "completed"
    },
    "tags": []
   },
   "source": [
    "## Exploratory Data Analysis"
   ]
  },
  {
   "cell_type": "markdown",
   "id": "94a59788",
   "metadata": {
    "papermill": {
     "duration": 0.03474,
     "end_time": "2022-07-05T18:13:15.637297",
     "exception": false,
     "start_time": "2022-07-05T18:13:15.602557",
     "status": "completed"
    },
    "tags": []
   },
   "source": [
    "## Univarient Analysis"
   ]
  },
  {
   "cell_type": "code",
   "execution_count": 12,
   "id": "58bc9910",
   "metadata": {
    "execution": {
     "iopub.execute_input": "2022-07-05T18:13:15.708172Z",
     "iopub.status.busy": "2022-07-05T18:13:15.707566Z",
     "iopub.status.idle": "2022-07-05T18:13:15.720082Z",
     "shell.execute_reply": "2022-07-05T18:13:15.719056Z"
    },
    "papermill": {
     "duration": 0.05089,
     "end_time": "2022-07-05T18:13:15.722423",
     "exception": false,
     "start_time": "2022-07-05T18:13:15.671533",
     "status": "completed"
    },
    "tags": []
   },
   "outputs": [
    {
     "data": {
      "text/html": [
       "<div>\n",
       "<style scoped>\n",
       "    .dataframe tbody tr th:only-of-type {\n",
       "        vertical-align: middle;\n",
       "    }\n",
       "\n",
       "    .dataframe tbody tr th {\n",
       "        vertical-align: top;\n",
       "    }\n",
       "\n",
       "    .dataframe thead th {\n",
       "        text-align: right;\n",
       "    }\n",
       "</style>\n",
       "<table border=\"1\" class=\"dataframe\">\n",
       "  <thead>\n",
       "    <tr style=\"text-align: right;\">\n",
       "      <th></th>\n",
       "      <th>age</th>\n",
       "      <th>sex</th>\n",
       "      <th>bmi</th>\n",
       "      <th>children</th>\n",
       "      <th>smoker</th>\n",
       "      <th>region</th>\n",
       "      <th>charges</th>\n",
       "    </tr>\n",
       "  </thead>\n",
       "  <tbody>\n",
       "    <tr>\n",
       "      <th>0</th>\n",
       "      <td>19</td>\n",
       "      <td>female</td>\n",
       "      <td>27.900</td>\n",
       "      <td>0</td>\n",
       "      <td>yes</td>\n",
       "      <td>southwest</td>\n",
       "      <td>16884.92400</td>\n",
       "    </tr>\n",
       "    <tr>\n",
       "      <th>1</th>\n",
       "      <td>18</td>\n",
       "      <td>male</td>\n",
       "      <td>33.770</td>\n",
       "      <td>1</td>\n",
       "      <td>no</td>\n",
       "      <td>southeast</td>\n",
       "      <td>1725.55230</td>\n",
       "    </tr>\n",
       "    <tr>\n",
       "      <th>2</th>\n",
       "      <td>28</td>\n",
       "      <td>male</td>\n",
       "      <td>33.000</td>\n",
       "      <td>3</td>\n",
       "      <td>no</td>\n",
       "      <td>southeast</td>\n",
       "      <td>4449.46200</td>\n",
       "    </tr>\n",
       "    <tr>\n",
       "      <th>3</th>\n",
       "      <td>33</td>\n",
       "      <td>male</td>\n",
       "      <td>22.705</td>\n",
       "      <td>0</td>\n",
       "      <td>no</td>\n",
       "      <td>northwest</td>\n",
       "      <td>21984.47061</td>\n",
       "    </tr>\n",
       "    <tr>\n",
       "      <th>4</th>\n",
       "      <td>32</td>\n",
       "      <td>male</td>\n",
       "      <td>28.880</td>\n",
       "      <td>0</td>\n",
       "      <td>no</td>\n",
       "      <td>northwest</td>\n",
       "      <td>3866.85520</td>\n",
       "    </tr>\n",
       "  </tbody>\n",
       "</table>\n",
       "</div>"
      ],
      "text/plain": [
       "   age     sex     bmi  children smoker     region      charges\n",
       "0   19  female  27.900         0    yes  southwest  16884.92400\n",
       "1   18    male  33.770         1     no  southeast   1725.55230\n",
       "2   28    male  33.000         3     no  southeast   4449.46200\n",
       "3   33    male  22.705         0     no  northwest  21984.47061\n",
       "4   32    male  28.880         0     no  northwest   3866.85520"
      ]
     },
     "execution_count": 12,
     "metadata": {},
     "output_type": "execute_result"
    }
   ],
   "source": [
    "data.head()"
   ]
  },
  {
   "cell_type": "code",
   "execution_count": 13,
   "id": "205617a3",
   "metadata": {
    "execution": {
     "iopub.execute_input": "2022-07-05T18:13:15.797702Z",
     "iopub.status.busy": "2022-07-05T18:13:15.796904Z",
     "iopub.status.idle": "2022-07-05T18:13:15.803804Z",
     "shell.execute_reply": "2022-07-05T18:13:15.802815Z"
    },
    "papermill": {
     "duration": 0.048328,
     "end_time": "2022-07-05T18:13:15.806040",
     "exception": false,
     "start_time": "2022-07-05T18:13:15.757712",
     "status": "completed"
    },
    "tags": []
   },
   "outputs": [
    {
     "data": {
      "text/plain": [
       "(1338, 7)"
      ]
     },
     "execution_count": 13,
     "metadata": {},
     "output_type": "execute_result"
    }
   ],
   "source": [
    "data.shape"
   ]
  },
  {
   "cell_type": "markdown",
   "id": "8bf654d0",
   "metadata": {
    "papermill": {
     "duration": 0.034322,
     "end_time": "2022-07-05T18:13:15.875313",
     "exception": false,
     "start_time": "2022-07-05T18:13:15.840991",
     "status": "completed"
    },
    "tags": []
   },
   "source": [
    "###### There are 1338 rows and 7 columns in this dataset"
   ]
  },
  {
   "cell_type": "code",
   "execution_count": 14,
   "id": "a2a9fa4b",
   "metadata": {
    "execution": {
     "iopub.execute_input": "2022-07-05T18:13:15.946262Z",
     "iopub.status.busy": "2022-07-05T18:13:15.945531Z",
     "iopub.status.idle": "2022-07-05T18:13:15.952877Z",
     "shell.execute_reply": "2022-07-05T18:13:15.951845Z"
    },
    "papermill": {
     "duration": 0.045318,
     "end_time": "2022-07-05T18:13:15.954971",
     "exception": false,
     "start_time": "2022-07-05T18:13:15.909653",
     "status": "completed"
    },
    "tags": []
   },
   "outputs": [
    {
     "data": {
      "text/plain": [
       "47"
      ]
     },
     "execution_count": 14,
     "metadata": {},
     "output_type": "execute_result"
    }
   ],
   "source": [
    "## Analysing age\n",
    "\n",
    "data['age'].nunique()  ## finding the unique values in age column"
   ]
  },
  {
   "cell_type": "code",
   "execution_count": 15,
   "id": "97e10d65",
   "metadata": {
    "execution": {
     "iopub.execute_input": "2022-07-05T18:13:16.027298Z",
     "iopub.status.busy": "2022-07-05T18:13:16.026598Z",
     "iopub.status.idle": "2022-07-05T18:13:16.035783Z",
     "shell.execute_reply": "2022-07-05T18:13:16.034713Z"
    },
    "papermill": {
     "duration": 0.047955,
     "end_time": "2022-07-05T18:13:16.038011",
     "exception": false,
     "start_time": "2022-07-05T18:13:15.990056",
     "status": "completed"
    },
    "tags": []
   },
   "outputs": [
    {
     "data": {
      "text/plain": [
       "18    69\n",
       "19    68\n",
       "50    29\n",
       "51    29\n",
       "47    29\n",
       "46    29\n",
       "45    29\n",
       "20    29\n",
       "48    29\n",
       "52    29\n",
       "22    28\n",
       "49    28\n",
       "54    28\n",
       "53    28\n",
       "21    28\n",
       "26    28\n",
       "24    28\n",
       "25    28\n",
       "28    28\n",
       "27    28\n",
       "23    28\n",
       "43    27\n",
       "29    27\n",
       "30    27\n",
       "41    27\n",
       "42    27\n",
       "44    27\n",
       "31    27\n",
       "40    27\n",
       "32    26\n",
       "33    26\n",
       "56    26\n",
       "34    26\n",
       "55    26\n",
       "57    26\n",
       "37    25\n",
       "59    25\n",
       "58    25\n",
       "36    25\n",
       "38    25\n",
       "35    25\n",
       "39    25\n",
       "61    23\n",
       "60    23\n",
       "63    23\n",
       "62    23\n",
       "64    22\n",
       "Name: age, dtype: int64"
      ]
     },
     "execution_count": 15,
     "metadata": {},
     "output_type": "execute_result"
    }
   ],
   "source": [
    "data.age.value_counts() ## different ages"
   ]
  },
  {
   "cell_type": "code",
   "execution_count": 16,
   "id": "065d7929",
   "metadata": {
    "execution": {
     "iopub.execute_input": "2022-07-05T18:13:16.110038Z",
     "iopub.status.busy": "2022-07-05T18:13:16.109054Z",
     "iopub.status.idle": "2022-07-05T18:13:16.617632Z",
     "shell.execute_reply": "2022-07-05T18:13:16.616385Z"
    },
    "papermill": {
     "duration": 0.546946,
     "end_time": "2022-07-05T18:13:16.620110",
     "exception": false,
     "start_time": "2022-07-05T18:13:16.073164",
     "status": "completed"
    },
    "tags": []
   },
   "outputs": [
    {
     "data": {
      "image/png": "[encoded data removed]",
      "text/plain": [
       "<Figure size 1080x360 with 1 Axes>"
      ]
     },
     "metadata": {
      "needs_background": "light"
     },
     "output_type": "display_data"
    }
   ],
   "source": [
    "## Analysing age using count plot\n",
    "\n",
    "plt.figure(figsize=(15,5))\n",
    "sns.countplot(x='age',data=data)\n",
    "plt.show()"
   ]
  },
  {
   "cell_type": "code",
   "execution_count": 17,
   "id": "0df6e65b",
   "metadata": {
    "execution": {
     "iopub.execute_input": "2022-07-05T18:13:16.693027Z",
     "iopub.status.busy": "2022-07-05T18:13:16.692281Z",
     "iopub.status.idle": "2022-07-05T18:13:16.811427Z",
     "shell.execute_reply": "2022-07-05T18:13:16.809686Z"
    },
    "papermill": {
     "duration": 0.160084,
     "end_time": "2022-07-05T18:13:16.815948",
     "exception": false,
     "start_time": "2022-07-05T18:13:16.655864",
     "status": "completed"
    },
    "tags": []
   },
   "outputs": [
    {
     "data": {
      "image/png": "[encoded data removed]",
      "text/plain": [
       "<Figure size 360x360 with 1 Axes>"
      ]
     },
     "metadata": {},
     "output_type": "display_data"
    }
   ],
   "source": [
    "## Analysing sex\n",
    "## Male vs Female ratio\n",
    "\n",
    "plt.figure(figsize=(5,5))\n",
    "labels=['male','female']\n",
    "size=data['sex'].value_counts()\n",
    "colors=['lightblue','pink']\n",
    "explode=[0,0.1]\n",
    "plt.pie(size,labels=labels,colors=colors,explode=explode,autopct='%.2f%%',shadow=True)\n",
    "plt.show()"
   ]
  },
  {
   "cell_type": "code",
   "execution_count": 18,
   "id": "c787f1d5",
   "metadata": {
    "execution": {
     "iopub.execute_input": "2022-07-05T18:13:16.927122Z",
     "iopub.status.busy": "2022-07-05T18:13:16.926762Z",
     "iopub.status.idle": "2022-07-05T18:13:17.175127Z",
     "shell.execute_reply": "2022-07-05T18:13:17.174013Z"
    },
    "papermill": {
     "duration": 0.295334,
     "end_time": "2022-07-05T18:13:17.177445",
     "exception": false,
     "start_time": "2022-07-05T18:13:16.882111",
     "status": "completed"
    },
    "tags": []
   },
   "outputs": [
    {
     "data": {
      "text/plain": [
       "<AxesSubplot:xlabel='bmi', ylabel='Density'>"
      ]
     },
     "execution_count": 18,
     "metadata": {},
     "output_type": "execute_result"
    },
    {
     "data": {
      "image/png": "[encoded data removed]",
      "text/plain": [
       "<Figure size 432x288 with 1 Axes>"
      ]
     },
     "metadata": {
      "needs_background": "light"
     },
     "output_type": "display_data"
    }
   ],
   "source": [
    "## Analysing bmi\n",
    "\n",
    "sns.distplot(data.bmi,color='red')"
   ]
  },
  {
   "cell_type": "code",
   "execution_count": 19,
   "id": "5c100d43",
   "metadata": {
    "execution": {
     "iopub.execute_input": "2022-07-05T18:13:17.252403Z",
     "iopub.status.busy": "2022-07-05T18:13:17.251739Z",
     "iopub.status.idle": "2022-07-05T18:13:17.426379Z",
     "shell.execute_reply": "2022-07-05T18:13:17.425277Z"
    },
    "papermill": {
     "duration": 0.214664,
     "end_time": "2022-07-05T18:13:17.428647",
     "exception": false,
     "start_time": "2022-07-05T18:13:17.213983",
     "status": "completed"
    },
    "tags": []
   },
   "outputs": [
    {
     "data": {
      "image/png": "[encoded data removed]",
      "text/plain": [
       "<Figure size 432x360 with 1 Axes>"
      ]
     },
     "metadata": {
      "needs_background": "light"
     },
     "output_type": "display_data"
    }
   ],
   "source": [
    "## Analysing children using count plot\n",
    "\n",
    "plt.figure(figsize=(6,5))\n",
    "sns.countplot(x='children',data=data,palette='Set2')\n",
    "plt.show()\n",
    "\n"
   ]
  },
  {
   "cell_type": "code",
   "execution_count": 20,
   "id": "f6a92886",
   "metadata": {
    "execution": {
     "iopub.execute_input": "2022-07-05T18:13:17.505203Z",
     "iopub.status.busy": "2022-07-05T18:13:17.504129Z",
     "iopub.status.idle": "2022-07-05T18:13:17.599099Z",
     "shell.execute_reply": "2022-07-05T18:13:17.598012Z"
    },
    "papermill": {
     "duration": 0.137001,
     "end_time": "2022-07-05T18:13:17.602648",
     "exception": false,
     "start_time": "2022-07-05T18:13:17.465647",
     "status": "completed"
    },
    "tags": []
   },
   "outputs": [
    {
     "data": {
      "image/png": "[encoded data removed]",
      "text/plain": [
       "<Figure size 432x288 with 1 Axes>"
      ]
     },
     "metadata": {},
     "output_type": "display_data"
    }
   ],
   "source": [
    "## Analysing smoker\n",
    "## smoker vs non-smoker ratio \n",
    "\n",
    "labels=['Non-Smoker','Smoker']\n",
    "size=data['smoker'].value_counts()\n",
    "colors=['#99ff99','#ffcc99']\n",
    "explode=(0,0.1)\n",
    "plt.pie(size,labels=labels,colors=colors,explode=explode,autopct='%2.f%%')\n",
    "circle = plt.Circle( (0,0),0.6, color='white')\n",
    "p=plt.gcf()\n",
    "p.gca().add_artist(circle)\n",
    "plt.show()"
   ]
  },
  {
   "cell_type": "code",
   "execution_count": 21,
   "id": "0d1031b8",
   "metadata": {
    "execution": {
     "iopub.execute_input": "2022-07-05T18:13:17.717253Z",
     "iopub.status.busy": "2022-07-05T18:13:17.716867Z",
     "iopub.status.idle": "2022-07-05T18:13:17.888955Z",
     "shell.execute_reply": "2022-07-05T18:13:17.887981Z"
    },
    "papermill": {
     "duration": 0.22088,
     "end_time": "2022-07-05T18:13:17.891325",
     "exception": false,
     "start_time": "2022-07-05T18:13:17.670445",
     "status": "completed"
    },
    "tags": []
   },
   "outputs": [
    {
     "data": {
      "image/png": "[encoded data removed]",
      "text/plain": [
       "<Figure size 504x360 with 1 Axes>"
      ]
     },
     "metadata": {
      "needs_background": "light"
     },
     "output_type": "display_data"
    }
   ],
   "source": [
    "## Analysing region using count plot\n",
    "\n",
    "plt.figure(figsize=(7,5))\n",
    "sns.countplot(x='region',data=data,palette='viridis')\n",
    "plt.show()"
   ]
  },
  {
   "cell_type": "code",
   "execution_count": 22,
   "id": "a688ee60",
   "metadata": {
    "execution": {
     "iopub.execute_input": "2022-07-05T18:13:17.964864Z",
     "iopub.status.busy": "2022-07-05T18:13:17.964446Z",
     "iopub.status.idle": "2022-07-05T18:13:18.190804Z",
     "shell.execute_reply": "2022-07-05T18:13:18.189999Z"
    },
    "papermill": {
     "duration": 0.265482,
     "end_time": "2022-07-05T18:13:18.192898",
     "exception": false,
     "start_time": "2022-07-05T18:13:17.927416",
     "status": "completed"
    },
    "tags": []
   },
   "outputs": [
    {
     "data": {
      "image/png": "[encoded data removed]",
      "text/plain": [
       "<Figure size 720x360 with 1 Axes>"
      ]
     },
     "metadata": {
      "needs_background": "light"
     },
     "output_type": "display_data"
    }
   ],
   "source": [
    "## Analysing charges \n",
    "\n",
    "plt.figure(figsize=(10,5))\n",
    "sns.distplot(data.charges,color='green',bins=10)\n",
    "plt.show()"
   ]
  },
  {
   "cell_type": "code",
   "execution_count": 23,
   "id": "70469f06",
   "metadata": {
    "execution": {
     "iopub.execute_input": "2022-07-05T18:13:18.268616Z",
     "iopub.status.busy": "2022-07-05T18:13:18.267996Z",
     "iopub.status.idle": "2022-07-05T18:13:18.580258Z",
     "shell.execute_reply": "2022-07-05T18:13:18.579083Z"
    },
    "papermill": {
     "duration": 0.352798,
     "end_time": "2022-07-05T18:13:18.582528",
     "exception": false,
     "start_time": "2022-07-05T18:13:18.229730",
     "status": "completed"
    },
    "tags": []
   },
   "outputs": [
    {
     "data": {
      "image/png": "[encoded data removed]",
      "text/plain": [
       "<Figure size 720x720 with 3 Axes>"
      ]
     },
     "metadata": {},
     "output_type": "display_data"
    }
   ],
   "source": [
    "##  checking outliers \n",
    "\n",
    "box=data[['age','bmi','children']]\n",
    "plt.figure(figsize=(10,10), facecolor='white')\n",
    "plotnumber = 1\n",
    "\n",
    "for column in box:#acc\n",
    "    if plotnumber<=3 : # as there are 7 columns in the data\n",
    "        ax = plt.subplot(3,1,plotnumber)#plotting 3 graphs\n",
    "        sns.boxplot(x=box[column],color='skyblue')#boxplot to check for outlier\n",
    "        plt.xlabel(column,fontsize=10)#assign name to x-axis and font size as 10\n",
    "        \n",
    "    plotnumber+=1#counter increment \n",
    "plt.show()#to show plot"
   ]
  },
  {
   "cell_type": "markdown",
   "id": "cb2d62b1",
   "metadata": {
    "papermill": {
     "duration": 0.039251,
     "end_time": "2022-07-05T18:13:18.658956",
     "exception": false,
     "start_time": "2022-07-05T18:13:18.619705",
     "status": "completed"
    },
    "tags": []
   },
   "source": [
    "## Bivarient  and Multivarient analysis"
   ]
  },
  {
   "cell_type": "code",
   "execution_count": 24,
   "id": "0df251fc",
   "metadata": {
    "execution": {
     "iopub.execute_input": "2022-07-05T18:13:18.757402Z",
     "iopub.status.busy": "2022-07-05T18:13:18.756554Z",
     "iopub.status.idle": "2022-07-05T18:13:18.959869Z",
     "shell.execute_reply": "2022-07-05T18:13:18.958620Z"
    },
    "papermill": {
     "duration": 0.264548,
     "end_time": "2022-07-05T18:13:18.962000",
     "exception": false,
     "start_time": "2022-07-05T18:13:18.697452",
     "status": "completed"
    },
    "scrolled": true,
    "tags": []
   },
   "outputs": [
    {
     "data": {
      "image/png": "[encoded data removed]",
      "text/plain": [
       "<Figure size 432x288 with 1 Axes>"
      ]
     },
     "metadata": {
      "needs_background": "light"
     },
     "output_type": "display_data"
    }
   ],
   "source": [
    "## Analysing bmi vs charges\n",
    "\n",
    "sns.scatterplot(x='bmi',y='charges',data=data,color='#8E388E')\n",
    "plt.show()"
   ]
  },
  {
   "cell_type": "code",
   "execution_count": 25,
   "id": "505931a5",
   "metadata": {
    "execution": {
     "iopub.execute_input": "2022-07-05T18:13:19.039998Z",
     "iopub.status.busy": "2022-07-05T18:13:19.039375Z",
     "iopub.status.idle": "2022-07-05T18:13:21.876731Z",
     "shell.execute_reply": "2022-07-05T18:13:21.875583Z"
    },
    "papermill": {
     "duration": 2.878957,
     "end_time": "2022-07-05T18:13:21.879370",
     "exception": false,
     "start_time": "2022-07-05T18:13:19.000413",
     "status": "completed"
    },
    "tags": []
   },
   "outputs": [
    {
     "data": {
      "image/png": "[encoded data removed]",
      "text/plain": [
       "<Figure size 1008x504 with 1 Axes>"
      ]
     },
     "metadata": {
      "needs_background": "light"
     },
     "output_type": "display_data"
    }
   ],
   "source": [
    "## Analysing age and charges by sex using line plot\n",
    "\n",
    "plt.figure(figsize=(14,7))\n",
    "sns.lineplot(data[\"age\"],data[\"charges\"],hue=data[\"sex\"],ci=0,palette='Accent').set(title= 'Cost for male and female')\n",
    "plt.legend=(1, 1)\n",
    "plt.show()"
   ]
  },
  {
   "cell_type": "code",
   "execution_count": 26,
   "id": "54d63896",
   "metadata": {
    "execution": {
     "iopub.execute_input": "2022-07-05T18:13:21.960107Z",
     "iopub.status.busy": "2022-07-05T18:13:21.958947Z",
     "iopub.status.idle": "2022-07-05T18:13:22.343134Z",
     "shell.execute_reply": "2022-07-05T18:13:22.342062Z"
    },
    "papermill": {
     "duration": 0.426071,
     "end_time": "2022-07-05T18:13:22.345185",
     "exception": false,
     "start_time": "2022-07-05T18:13:21.919114",
     "status": "completed"
    },
    "tags": []
   },
   "outputs": [
    {
     "data": {
      "image/png": "[encoded data removed]",
      "text/plain": [
       "<Figure size 432x288 with 1 Axes>"
      ]
     },
     "metadata": {
      "needs_background": "light"
     },
     "output_type": "display_data"
    }
   ],
   "source": [
    "## Analysing children vs charges using count plot\n",
    "\n",
    "sns.barplot(x=data.children,y=data.charges,palette='twilight').set(title=\"Children vs Charges\")\n",
    "plt.show()"
   ]
  },
  {
   "cell_type": "code",
   "execution_count": 27,
   "id": "c9bf607b",
   "metadata": {
    "execution": {
     "iopub.execute_input": "2022-07-05T18:13:22.426141Z",
     "iopub.status.busy": "2022-07-05T18:13:22.425795Z",
     "iopub.status.idle": "2022-07-05T18:13:22.630192Z",
     "shell.execute_reply": "2022-07-05T18:13:22.629117Z"
    },
    "papermill": {
     "duration": 0.247664,
     "end_time": "2022-07-05T18:13:22.632533",
     "exception": false,
     "start_time": "2022-07-05T18:13:22.384869",
     "status": "completed"
    },
    "tags": []
   },
   "outputs": [
    {
     "data": {
      "image/png": "[encoded data removed]",
      "text/plain": [
       "<Figure size 720x360 with 1 Axes>"
      ]
     },
     "metadata": {
      "needs_background": "light"
     },
     "output_type": "display_data"
    }
   ],
   "source": [
    "#Analysing region vs smoker uisng count plot\n",
    "plt.figure(figsize=(10,5))\n",
    "sns.countplot(x='region',hue='smoker',color='skyblue',data=data).set(title=\"Smoker vs Region\")\n",
    "plt.show()"
   ]
  },
  {
   "cell_type": "code",
   "execution_count": 28,
   "id": "b81034af",
   "metadata": {
    "execution": {
     "iopub.execute_input": "2022-07-05T18:13:22.715132Z",
     "iopub.status.busy": "2022-07-05T18:13:22.713991Z",
     "iopub.status.idle": "2022-07-05T18:13:22.969505Z",
     "shell.execute_reply": "2022-07-05T18:13:22.968397Z"
    },
    "papermill": {
     "duration": 0.298969,
     "end_time": "2022-07-05T18:13:22.972020",
     "exception": false,
     "start_time": "2022-07-05T18:13:22.673051",
     "status": "completed"
    },
    "tags": []
   },
   "outputs": [
    {
     "data": {
      "image/png": "[encoded data removed]",
      "text/plain": [
       "<Figure size 576x504 with 2 Axes>"
      ]
     },
     "metadata": {
      "needs_background": "light"
     },
     "output_type": "display_data"
    }
   ],
   "source": [
    "##Heatmap to find the correlation\n",
    "\n",
    "plt.figure(figsize=(8,7))\n",
    "sns.heatmap(data.corr(),annot=True,cmap='gist_earth')\n",
    "plt.title(\"Heatmap\")\n",
    "plt.show()"
   ]
  },
  {
   "cell_type": "markdown",
   "id": "0f820d22",
   "metadata": {
    "papermill": {
     "duration": 0.040121,
     "end_time": "2022-07-05T18:13:23.053323",
     "exception": false,
     "start_time": "2022-07-05T18:13:23.013202",
     "status": "completed"
    },
    "tags": []
   },
   "source": [
    "## Data Preprocessing"
   ]
  },
  {
   "cell_type": "code",
   "execution_count": 29,
   "id": "f33e5066",
   "metadata": {
    "execution": {
     "iopub.execute_input": "2022-07-05T18:13:23.138303Z",
     "iopub.status.busy": "2022-07-05T18:13:23.137637Z",
     "iopub.status.idle": "2022-07-05T18:13:23.147694Z",
     "shell.execute_reply": "2022-07-05T18:13:23.146487Z"
    },
    "papermill": {
     "duration": 0.054922,
     "end_time": "2022-07-05T18:13:23.149781",
     "exception": false,
     "start_time": "2022-07-05T18:13:23.094859",
     "status": "completed"
    },
    "tags": []
   },
   "outputs": [
    {
     "data": {
      "text/plain": [
       "age         0\n",
       "sex         0\n",
       "bmi         0\n",
       "children    0\n",
       "smoker      0\n",
       "region      0\n",
       "charges     0\n",
       "dtype: int64"
      ]
     },
     "execution_count": 29,
     "metadata": {},
     "output_type": "execute_result"
    }
   ],
   "source": [
    "# handling the missing values ## there is no missing values\n",
    "\n",
    "data.isnull().sum()"
   ]
  },
  {
   "cell_type": "code",
   "execution_count": 30,
   "id": "972bed07",
   "metadata": {
    "execution": {
     "iopub.execute_input": "2022-07-05T18:13:23.233378Z",
     "iopub.status.busy": "2022-07-05T18:13:23.232993Z",
     "iopub.status.idle": "2022-07-05T18:13:23.237660Z",
     "shell.execute_reply": "2022-07-05T18:13:23.236667Z"
    },
    "papermill": {
     "duration": 0.048933,
     "end_time": "2022-07-05T18:13:23.239728",
     "exception": false,
     "start_time": "2022-07-05T18:13:23.190795",
     "status": "completed"
    },
    "tags": []
   },
   "outputs": [],
   "source": [
    "## converting categorical data to numerical data"
   ]
  },
  {
   "cell_type": "code",
   "execution_count": 31,
   "id": "7f44ca7d",
   "metadata": {
    "execution": {
     "iopub.execute_input": "2022-07-05T18:13:23.324001Z",
     "iopub.status.busy": "2022-07-05T18:13:23.322908Z",
     "iopub.status.idle": "2022-07-05T18:13:23.329212Z",
     "shell.execute_reply": "2022-07-05T18:13:23.328529Z"
    },
    "papermill": {
     "duration": 0.050705,
     "end_time": "2022-07-05T18:13:23.331097",
     "exception": false,
     "start_time": "2022-07-05T18:13:23.280392",
     "status": "completed"
    },
    "tags": []
   },
   "outputs": [
    {
     "data": {
      "text/plain": [
       "array(['yes', 'no'], dtype=object)"
      ]
     },
     "execution_count": 31,
     "metadata": {},
     "output_type": "execute_result"
    }
   ],
   "source": [
    "data['smoker'].unique()  "
   ]
  },
  {
   "cell_type": "code",
   "execution_count": 32,
   "id": "b1e947cc",
   "metadata": {
    "execution": {
     "iopub.execute_input": "2022-07-05T18:13:23.415344Z",
     "iopub.status.busy": "2022-07-05T18:13:23.414318Z",
     "iopub.status.idle": "2022-07-05T18:13:23.420707Z",
     "shell.execute_reply": "2022-07-05T18:13:23.419968Z"
    },
    "papermill": {
     "duration": 0.050408,
     "end_time": "2022-07-05T18:13:23.422644",
     "exception": false,
     "start_time": "2022-07-05T18:13:23.372236",
     "status": "completed"
    },
    "tags": []
   },
   "outputs": [],
   "source": [
    "data.smoker=data.smoker.map({'yes':1,'no':0}) ## smoker=1,non-smoker=0"
   ]
  },
  {
   "cell_type": "code",
   "execution_count": 33,
   "id": "7d2ab0e9",
   "metadata": {
    "execution": {
     "iopub.execute_input": "2022-07-05T18:13:23.509401Z",
     "iopub.status.busy": "2022-07-05T18:13:23.508680Z",
     "iopub.status.idle": "2022-07-05T18:13:23.516312Z",
     "shell.execute_reply": "2022-07-05T18:13:23.515542Z"
    },
    "papermill": {
     "duration": 0.054429,
     "end_time": "2022-07-05T18:13:23.518638",
     "exception": false,
     "start_time": "2022-07-05T18:13:23.464209",
     "status": "completed"
    },
    "tags": []
   },
   "outputs": [
    {
     "data": {
      "text/plain": [
       "array(['southwest', 'southeast', 'northwest', 'northeast'], dtype=object)"
      ]
     },
     "execution_count": 33,
     "metadata": {},
     "output_type": "execute_result"
    }
   ],
   "source": [
    "data['region'].unique()"
   ]
  },
  {
   "cell_type": "code",
   "execution_count": 34,
   "id": "8fab5997",
   "metadata": {
    "execution": {
     "iopub.execute_input": "2022-07-05T18:13:23.601407Z",
     "iopub.status.busy": "2022-07-05T18:13:23.601043Z",
     "iopub.status.idle": "2022-07-05T18:13:23.608119Z",
     "shell.execute_reply": "2022-07-05T18:13:23.607361Z"
    },
    "papermill": {
     "duration": 0.05101,
     "end_time": "2022-07-05T18:13:23.610230",
     "exception": false,
     "start_time": "2022-07-05T18:13:23.559220",
     "status": "completed"
    },
    "tags": []
   },
   "outputs": [],
   "source": [
    "data.region=data.region.map({'southwest':0,'southeast':1,'northwest':2,'northeast':3})"
   ]
  },
  {
   "cell_type": "code",
   "execution_count": 35,
   "id": "6a958b4d",
   "metadata": {
    "execution": {
     "iopub.execute_input": "2022-07-05T18:13:23.694748Z",
     "iopub.status.busy": "2022-07-05T18:13:23.693676Z",
     "iopub.status.idle": "2022-07-05T18:13:23.700461Z",
     "shell.execute_reply": "2022-07-05T18:13:23.699725Z"
    },
    "papermill": {
     "duration": 0.051634,
     "end_time": "2022-07-05T18:13:23.702649",
     "exception": false,
     "start_time": "2022-07-05T18:13:23.651015",
     "status": "completed"
    },
    "tags": []
   },
   "outputs": [],
   "source": [
    "data.sex=pd.get_dummies(data.sex,drop_first=True)  ## onehot encoding is done,female is 0 and male is 1"
   ]
  },
  {
   "cell_type": "code",
   "execution_count": 36,
   "id": "1008d92b",
   "metadata": {
    "execution": {
     "iopub.execute_input": "2022-07-05T18:13:23.788469Z",
     "iopub.status.busy": "2022-07-05T18:13:23.787926Z",
     "iopub.status.idle": "2022-07-05T18:13:23.800820Z",
     "shell.execute_reply": "2022-07-05T18:13:23.799765Z"
    },
    "papermill": {
     "duration": 0.058976,
     "end_time": "2022-07-05T18:13:23.802904",
     "exception": false,
     "start_time": "2022-07-05T18:13:23.743928",
     "status": "completed"
    },
    "tags": []
   },
   "outputs": [
    {
     "data": {
      "text/html": [
       "<div>\n",
       "<style scoped>\n",
       "    .dataframe tbody tr th:only-of-type {\n",
       "        vertical-align: middle;\n",
       "    }\n",
       "\n",
       "    .dataframe tbody tr th {\n",
       "        vertical-align: top;\n",
       "    }\n",
       "\n",
       "    .dataframe thead th {\n",
       "        text-align: right;\n",
       "    }\n",
       "</style>\n",
       "<table border=\"1\" class=\"dataframe\">\n",
       "  <thead>\n",
       "    <tr style=\"text-align: right;\">\n",
       "      <th></th>\n",
       "      <th>age</th>\n",
       "      <th>sex</th>\n",
       "      <th>bmi</th>\n",
       "      <th>children</th>\n",
       "      <th>smoker</th>\n",
       "      <th>region</th>\n",
       "      <th>charges</th>\n",
       "    </tr>\n",
       "  </thead>\n",
       "  <tbody>\n",
       "    <tr>\n",
       "      <th>0</th>\n",
       "      <td>19</td>\n",
       "      <td>0</td>\n",
       "      <td>27.900</td>\n",
       "      <td>0</td>\n",
       "      <td>1</td>\n",
       "      <td>0</td>\n",
       "      <td>16884.92400</td>\n",
       "    </tr>\n",
       "    <tr>\n",
       "      <th>1</th>\n",
       "      <td>18</td>\n",
       "      <td>1</td>\n",
       "      <td>33.770</td>\n",
       "      <td>1</td>\n",
       "      <td>0</td>\n",
       "      <td>1</td>\n",
       "      <td>1725.55230</td>\n",
       "    </tr>\n",
       "    <tr>\n",
       "      <th>2</th>\n",
       "      <td>28</td>\n",
       "      <td>1</td>\n",
       "      <td>33.000</td>\n",
       "      <td>3</td>\n",
       "      <td>0</td>\n",
       "      <td>1</td>\n",
       "      <td>4449.46200</td>\n",
       "    </tr>\n",
       "    <tr>\n",
       "      <th>3</th>\n",
       "      <td>33</td>\n",
       "      <td>1</td>\n",
       "      <td>22.705</td>\n",
       "      <td>0</td>\n",
       "      <td>0</td>\n",
       "      <td>2</td>\n",
       "      <td>21984.47061</td>\n",
       "    </tr>\n",
       "    <tr>\n",
       "      <th>4</th>\n",
       "      <td>32</td>\n",
       "      <td>1</td>\n",
       "      <td>28.880</td>\n",
       "      <td>0</td>\n",
       "      <td>0</td>\n",
       "      <td>2</td>\n",
       "      <td>3866.85520</td>\n",
       "    </tr>\n",
       "  </tbody>\n",
       "</table>\n",
       "</div>"
      ],
      "text/plain": [
       "   age  sex     bmi  children  smoker  region      charges\n",
       "0   19    0  27.900         0       1       0  16884.92400\n",
       "1   18    1  33.770         1       0       1   1725.55230\n",
       "2   28    1  33.000         3       0       1   4449.46200\n",
       "3   33    1  22.705         0       0       2  21984.47061\n",
       "4   32    1  28.880         0       0       2   3866.85520"
      ]
     },
     "execution_count": 36,
     "metadata": {},
     "output_type": "execute_result"
    }
   ],
   "source": [
    "data.head()"
   ]
  },
  {
   "cell_type": "markdown",
   "id": "33ac4d62",
   "metadata": {
    "papermill": {
     "duration": 0.040096,
     "end_time": "2022-07-05T18:13:23.883913",
     "exception": false,
     "start_time": "2022-07-05T18:13:23.843817",
     "status": "completed"
    },
    "tags": []
   },
   "source": [
    "## Model creation"
   ]
  },
  {
   "cell_type": "code",
   "execution_count": 37,
   "id": "3a11b649",
   "metadata": {
    "execution": {
     "iopub.execute_input": "2022-07-05T18:13:23.965266Z",
     "iopub.status.busy": "2022-07-05T18:13:23.964905Z",
     "iopub.status.idle": "2022-07-05T18:13:23.970404Z",
     "shell.execute_reply": "2022-07-05T18:13:23.969413Z"
    },
    "papermill": {
     "duration": 0.048599,
     "end_time": "2022-07-05T18:13:23.972523",
     "exception": false,
     "start_time": "2022-07-05T18:13:23.923924",
     "status": "completed"
    },
    "tags": []
   },
   "outputs": [],
   "source": [
    "## defining independent and dependent variables\n",
    "\n",
    "x=data.iloc[:,0:-1] # independent variables\n",
    "y=data.charges  # dependent variable"
   ]
  },
  {
   "cell_type": "code",
   "execution_count": 38,
   "id": "872ae674",
   "metadata": {
    "execution": {
     "iopub.execute_input": "2022-07-05T18:13:24.054662Z",
     "iopub.status.busy": "2022-07-05T18:13:24.054228Z",
     "iopub.status.idle": "2022-07-05T18:13:24.069497Z",
     "shell.execute_reply": "2022-07-05T18:13:24.068512Z"
    },
    "papermill": {
     "duration": 0.058722,
     "end_time": "2022-07-05T18:13:24.071625",
     "exception": false,
     "start_time": "2022-07-05T18:13:24.012903",
     "status": "completed"
    },
    "tags": []
   },
   "outputs": [
    {
     "data": {
      "text/html": [
       "<div>\n",
       "<style scoped>\n",
       "    .dataframe tbody tr th:only-of-type {\n",
       "        vertical-align: middle;\n",
       "    }\n",
       "\n",
       "    .dataframe tbody tr th {\n",
       "        vertical-align: top;\n",
       "    }\n",
       "\n",
       "    .dataframe thead th {\n",
       "        text-align: right;\n",
       "    }\n",
       "</style>\n",
       "<table border=\"1\" class=\"dataframe\">\n",
       "  <thead>\n",
       "    <tr style=\"text-align: right;\">\n",
       "      <th></th>\n",
       "      <th>age</th>\n",
       "      <th>sex</th>\n",
       "      <th>bmi</th>\n",
       "      <th>children</th>\n",
       "      <th>smoker</th>\n",
       "      <th>region</th>\n",
       "    </tr>\n",
       "  </thead>\n",
       "  <tbody>\n",
       "    <tr>\n",
       "      <th>0</th>\n",
       "      <td>19</td>\n",
       "      <td>0</td>\n",
       "      <td>27.900</td>\n",
       "      <td>0</td>\n",
       "      <td>1</td>\n",
       "      <td>0</td>\n",
       "    </tr>\n",
       "    <tr>\n",
       "      <th>1</th>\n",
       "      <td>18</td>\n",
       "      <td>1</td>\n",
       "      <td>33.770</td>\n",
       "      <td>1</td>\n",
       "      <td>0</td>\n",
       "      <td>1</td>\n",
       "    </tr>\n",
       "    <tr>\n",
       "      <th>2</th>\n",
       "      <td>28</td>\n",
       "      <td>1</td>\n",
       "      <td>33.000</td>\n",
       "      <td>3</td>\n",
       "      <td>0</td>\n",
       "      <td>1</td>\n",
       "    </tr>\n",
       "    <tr>\n",
       "      <th>3</th>\n",
       "      <td>33</td>\n",
       "      <td>1</td>\n",
       "      <td>22.705</td>\n",
       "      <td>0</td>\n",
       "      <td>0</td>\n",
       "      <td>2</td>\n",
       "    </tr>\n",
       "    <tr>\n",
       "      <th>4</th>\n",
       "      <td>32</td>\n",
       "      <td>1</td>\n",
       "      <td>28.880</td>\n",
       "      <td>0</td>\n",
       "      <td>0</td>\n",
       "      <td>2</td>\n",
       "    </tr>\n",
       "    <tr>\n",
       "      <th>...</th>\n",
       "      <td>...</td>\n",
       "      <td>...</td>\n",
       "      <td>...</td>\n",
       "      <td>...</td>\n",
       "      <td>...</td>\n",
       "      <td>...</td>\n",
       "    </tr>\n",
       "    <tr>\n",
       "      <th>1333</th>\n",
       "      <td>50</td>\n",
       "      <td>1</td>\n",
       "      <td>30.970</td>\n",
       "      <td>3</td>\n",
       "      <td>0</td>\n",
       "      <td>2</td>\n",
       "    </tr>\n",
       "    <tr>\n",
       "      <th>1334</th>\n",
       "      <td>18</td>\n",
       "      <td>0</td>\n",
       "      <td>31.920</td>\n",
       "      <td>0</td>\n",
       "      <td>0</td>\n",
       "      <td>3</td>\n",
       "    </tr>\n",
       "    <tr>\n",
       "      <th>1335</th>\n",
       "      <td>18</td>\n",
       "      <td>0</td>\n",
       "      <td>36.850</td>\n",
       "      <td>0</td>\n",
       "      <td>0</td>\n",
       "      <td>1</td>\n",
       "    </tr>\n",
       "    <tr>\n",
       "      <th>1336</th>\n",
       "      <td>21</td>\n",
       "      <td>0</td>\n",
       "      <td>25.800</td>\n",
       "      <td>0</td>\n",
       "      <td>0</td>\n",
       "      <td>0</td>\n",
       "    </tr>\n",
       "    <tr>\n",
       "      <th>1337</th>\n",
       "      <td>61</td>\n",
       "      <td>0</td>\n",
       "      <td>29.070</td>\n",
       "      <td>0</td>\n",
       "      <td>1</td>\n",
       "      <td>2</td>\n",
       "    </tr>\n",
       "  </tbody>\n",
       "</table>\n",
       "<p>1338 rows × 6 columns</p>\n",
       "</div>"
      ],
      "text/plain": [
       "      age  sex     bmi  children  smoker  region\n",
       "0      19    0  27.900         0       1       0\n",
       "1      18    1  33.770         1       0       1\n",
       "2      28    1  33.000         3       0       1\n",
       "3      33    1  22.705         0       0       2\n",
       "4      32    1  28.880         0       0       2\n",
       "...   ...  ...     ...       ...     ...     ...\n",
       "1333   50    1  30.970         3       0       2\n",
       "1334   18    0  31.920         0       0       3\n",
       "1335   18    0  36.850         0       0       1\n",
       "1336   21    0  25.800         0       0       0\n",
       "1337   61    0  29.070         0       1       2\n",
       "\n",
       "[1338 rows x 6 columns]"
      ]
     },
     "execution_count": 38,
     "metadata": {},
     "output_type": "execute_result"
    }
   ],
   "source": [
    "x"
   ]
  },
  {
   "cell_type": "code",
   "execution_count": 39,
   "id": "a48396a0",
   "metadata": {
    "execution": {
     "iopub.execute_input": "2022-07-05T18:13:24.153905Z",
     "iopub.status.busy": "2022-07-05T18:13:24.153558Z",
     "iopub.status.idle": "2022-07-05T18:13:24.160974Z",
     "shell.execute_reply": "2022-07-05T18:13:24.160001Z"
    },
    "papermill": {
     "duration": 0.0512,
     "end_time": "2022-07-05T18:13:24.163069",
     "exception": false,
     "start_time": "2022-07-05T18:13:24.111869",
     "status": "completed"
    },
    "tags": []
   },
   "outputs": [
    {
     "data": {
      "text/plain": [
       "0       16884.92400\n",
       "1        1725.55230\n",
       "2        4449.46200\n",
       "3       21984.47061\n",
       "4        3866.85520\n",
       "           ...     \n",
       "1333    10600.54830\n",
       "1334     2205.98080\n",
       "1335     1629.83350\n",
       "1336     2007.94500\n",
       "1337    29141.36030\n",
       "Name: charges, Length: 1338, dtype: float64"
      ]
     },
     "execution_count": 39,
     "metadata": {},
     "output_type": "execute_result"
    }
   ],
   "source": [
    "y"
   ]
  },
  {
   "cell_type": "code",
   "execution_count": 40,
   "id": "66f1f986",
   "metadata": {
    "execution": {
     "iopub.execute_input": "2022-07-05T18:13:24.247823Z",
     "iopub.status.busy": "2022-07-05T18:13:24.247463Z",
     "iopub.status.idle": "2022-07-05T18:13:24.566682Z",
     "shell.execute_reply": "2022-07-05T18:13:24.565855Z"
    },
    "papermill": {
     "duration": 0.364602,
     "end_time": "2022-07-05T18:13:24.569146",
     "exception": false,
     "start_time": "2022-07-05T18:13:24.204544",
     "status": "completed"
    },
    "tags": []
   },
   "outputs": [],
   "source": [
    "## Defining the training data and the testing data\n",
    "\n",
    "from sklearn.model_selection import train_test_split\n",
    "x_train,x_test,y_train,y_test=train_test_split(x,y,test_size=0.25,random_state=42)"
   ]
  },
  {
   "cell_type": "code",
   "execution_count": 41,
   "id": "ebbc6dbc",
   "metadata": {
    "execution": {
     "iopub.execute_input": "2022-07-05T18:13:24.652514Z",
     "iopub.status.busy": "2022-07-05T18:13:24.651404Z",
     "iopub.status.idle": "2022-07-05T18:13:24.657320Z",
     "shell.execute_reply": "2022-07-05T18:13:24.656515Z"
    },
    "papermill": {
     "duration": 0.048698,
     "end_time": "2022-07-05T18:13:24.659132",
     "exception": false,
     "start_time": "2022-07-05T18:13:24.610434",
     "status": "completed"
    },
    "tags": []
   },
   "outputs": [
    {
     "data": {
      "text/plain": [
       "(1003, 6)"
      ]
     },
     "execution_count": 41,
     "metadata": {},
     "output_type": "execute_result"
    }
   ],
   "source": [
    "x_train.shape"
   ]
  },
  {
   "cell_type": "code",
   "execution_count": 42,
   "id": "17a261a4",
   "metadata": {
    "execution": {
     "iopub.execute_input": "2022-07-05T18:13:24.742518Z",
     "iopub.status.busy": "2022-07-05T18:13:24.741568Z",
     "iopub.status.idle": "2022-07-05T18:13:24.748411Z",
     "shell.execute_reply": "2022-07-05T18:13:24.747452Z"
    },
    "papermill": {
     "duration": 0.051055,
     "end_time": "2022-07-05T18:13:24.750435",
     "exception": false,
     "start_time": "2022-07-05T18:13:24.699380",
     "status": "completed"
    },
    "tags": []
   },
   "outputs": [
    {
     "data": {
      "text/plain": [
       "(335, 6)"
      ]
     },
     "execution_count": 42,
     "metadata": {},
     "output_type": "execute_result"
    }
   ],
   "source": [
    "x_test.shape"
   ]
  },
  {
   "cell_type": "code",
   "execution_count": 43,
   "id": "3daddd2f",
   "metadata": {
    "execution": {
     "iopub.execute_input": "2022-07-05T18:13:24.834970Z",
     "iopub.status.busy": "2022-07-05T18:13:24.834600Z",
     "iopub.status.idle": "2022-07-05T18:13:24.913403Z",
     "shell.execute_reply": "2022-07-05T18:13:24.912361Z"
    },
    "papermill": {
     "duration": 0.123823,
     "end_time": "2022-07-05T18:13:24.915825",
     "exception": false,
     "start_time": "2022-07-05T18:13:24.792002",
     "status": "completed"
    },
    "tags": []
   },
   "outputs": [],
   "source": [
    "from sklearn.linear_model import LinearRegression   ## importing the model library\n",
    "\n",
    "LR=LinearRegression()  ## importing the model object\n",
    "LR.fit(x_train,y_train) ## fitting the training data\n",
    "\n",
    "x_test_pred=LR.predict(x_test)"
   ]
  },
  {
   "cell_type": "code",
   "execution_count": 44,
   "id": "844a45ec",
   "metadata": {
    "execution": {
     "iopub.execute_input": "2022-07-05T18:13:25.011519Z",
     "iopub.status.busy": "2022-07-05T18:13:25.010870Z",
     "iopub.status.idle": "2022-07-05T18:13:25.022289Z",
     "shell.execute_reply": "2022-07-05T18:13:25.021189Z"
    },
    "papermill": {
     "duration": 0.067398,
     "end_time": "2022-07-05T18:13:25.024672",
     "exception": false,
     "start_time": "2022-07-05T18:13:24.957274",
     "status": "completed"
    },
    "tags": []
   },
   "outputs": [
    {
     "data": {
      "text/plain": [
       "array([ 8917.54106359,  7057.659731  , 36899.8708097 ,  9546.15877323,\n",
       "       26950.91414625, 10756.81129984,   110.22869716, 17039.89853046,\n",
       "         986.98094539, 11318.40928727, 27959.29316402,  9452.32982265,\n",
       "        5222.10612385, 38466.47603466, 40340.10507845, 37149.4535954 ,\n",
       "       15259.14589125, 35895.17954336,  9120.84172439, 31442.58115369,\n",
       "        3723.95224278, 10051.46909241,  2217.99081229,  7016.63069487,\n",
       "       11338.01161132, 12930.95780971, 14408.72962928,  6129.47379121,\n",
       "        9917.59150303,  2169.52986706,  8966.46437456, 13123.3402391 ,\n",
       "        4495.28487533,  3386.82377135,  4329.78730663, 13041.80740785,\n",
       "        1768.87632392,  8665.74216929, 33280.34641384, 32602.75057167,\n",
       "        3700.75706773,  4343.42320809, 14032.7103358 , 11545.84902818,\n",
       "        8813.53969858, 12062.88158511,  5231.42419487,  2955.58371562,\n",
       "       35536.42907912,  9183.63264624, 15891.85804801,  2337.51811118,\n",
       "       12367.13541434,  1414.32988846, 13490.60701704, 12602.54262341,\n",
       "        4308.63712233, 32184.47042804, 13214.87046964, 12863.21030069,\n",
       "       14076.04891269, 10469.90391052, 16336.37459362,  7774.84187511,\n",
       "       11802.82508563,  4029.33108287, 26486.15437683, 11027.11256277,\n",
       "        2096.97771302,  6064.83727901, 10721.637692  , 11578.95483677,\n",
       "       10992.72983587,  9223.39533917, 12023.20206194,  6724.90862846,\n",
       "        7213.13735107, 10782.13217754,  6539.12856312,  8624.88453698,\n",
       "        3764.48881283, 36663.2782185 ,  6200.97940875, 30697.37330127,\n",
       "       34822.63669716, 35273.93782926,  7052.54515928, 12971.94926369,\n",
       "        9955.94708085, 14425.93642753, 17690.14465368, 35287.98215389,\n",
       "       32952.46896641,  6160.02799477, 32008.52001777,  9396.90376288,\n",
       "       29449.90913095,  3605.1142754 , 28258.12976573,  5742.46142266,\n",
       "        5381.60780509,  1664.2576616 , 11557.59487047, 15037.01991362,\n",
       "       11756.24528626,  4302.57000461,  9966.60325688, 31773.09447727,\n",
       "        -154.6780985 , 32819.84880692,  3128.04915059, 10200.41192704,\n",
       "       14301.90324008, 31527.4016393 , 11418.71510632,  3781.73762207,\n",
       "       13161.4440507 , 31637.18162798,  8136.43797073,  3258.43015527,\n",
       "        8353.18591653, 10669.11152682, 15187.49700717,  5656.73092568,\n",
       "        3752.40191715, 10236.71948791, 10899.50402294, 11146.65457966,\n",
       "       14481.60979581,  7436.06478476,  5351.73682708,  9278.81110978,\n",
       "        9322.21283643, 12481.33308429,  8176.20509249, 15298.64456573,\n",
       "        8386.36876005, 31682.70260182, 35769.06462731, 31495.2441935 ,\n",
       "        6000.98088264, 12567.61242682,  6028.1669944 , 14600.26662855,\n",
       "        2505.56838628, 32873.78792075,  6316.68348629,  4850.12062237,\n",
       "       14383.67223845,  6837.15505254, 38686.02068531,  3038.92613974,\n",
       "        5877.17494902, 31632.17523319, 11559.20840188,  8454.11626908,\n",
       "       14865.94705571,  9825.63007022, 27004.82350926, 33422.95758074,\n",
       "       14537.30321296,  1626.45151654, 13149.34824172,  2169.3348587 ,\n",
       "        5315.27963663, 11634.37198323, 39687.19863024, 36521.69996   ,\n",
       "       33982.1327573 ,  3695.36537895,  7326.26344848,  8502.6108992 ,\n",
       "       12443.19892672,  4857.08907584,  1837.16491074, 32161.52674473,\n",
       "       24930.43619304, 17608.77930012, 26365.07282581, 10209.46826332,\n",
       "       37227.23025232,  -564.69506257,  6869.64578397,  7607.72659178,\n",
       "        4338.69867986,  5059.92848968,  5885.19471733,  4118.36758503,\n",
       "       15201.71543907, 11242.83842092,  6798.33766942,  2390.84298069,\n",
       "        1413.03074146, 31802.63856156, 16532.89066583, 12031.87779961,\n",
       "        1210.18409143, 12505.18176293,  1430.22584581,  8607.96315303,\n",
       "        1833.26353568, 33989.66761847, 10888.81360368,  2614.44923996,\n",
       "       25578.8601484 , 26265.98073498,  9527.2163158 ,  1756.14427962,\n",
       "       13339.61497166,   920.83166256, 10358.91326598, 10607.59334007,\n",
       "       16894.36964973, 26832.86045116,  6999.14407026,  5093.02678758,\n",
       "        5816.67245802, 13280.05779047, 11145.06500231,  8338.54267428,\n",
       "        5080.82996073, 12386.82952021, 13914.03902275, 35813.35824484,\n",
       "        4172.06437753, 28909.81325758, -1133.32908206,  2880.12243093,\n",
       "       11135.71770411, 15706.35173195,  5210.80617505,  6921.13180455,\n",
       "        3668.66165292, 31201.04452143,  7277.06445403, 12487.19238307,\n",
       "        5650.32749613,  9442.13932242, 36283.94759108,  4432.53648811,\n",
       "        9655.0771802 , 31013.24977451,  5704.04627963,  4553.72266831,\n",
       "        1054.94987468,  4859.32183875,  4386.26078398,  6394.60088835,\n",
       "       18693.15757914, -1538.71638948,  2160.06964827, 10609.43802256,\n",
       "        2958.21428978, 10188.30778985,  3675.76807093,  5072.45719952,\n",
       "       12367.11122259,  6247.46237347,  8253.5472003 ,  7500.02334453,\n",
       "        8931.42567829, 10544.49944175, 27797.18395273, 39154.66599301,\n",
       "       11814.20318814,  7679.68343157, 40920.24487583, 12194.06182569,\n",
       "        7117.2353475 ,  8294.05099542,  9177.32686677, 11125.19646852,\n",
       "       10136.05537396, 17682.5964215 ,   893.40070806, 23499.84619171,\n",
       "       12650.28469514, 33123.65334017,  5178.50938884, 13248.73962056,\n",
       "       10403.96132784, 17771.10715109,  9821.65332204, 11480.47115671,\n",
       "       32124.5231745 ,  3265.44701162, 13682.92407652, 39412.79599671,\n",
       "        5472.63365892,  6136.43831854,  3319.43954439, 11317.85149954,\n",
       "       25428.80452628, 14122.60868413,  9358.61024491, 10065.2310189 ,\n",
       "       13564.6978877 ,   843.64395475,  2456.41586052, 30725.21622669,\n",
       "       29873.38202887, 13635.4929867 ,  3687.02404567, 25393.16213404,\n",
       "       13530.97923951, 30727.23090827,  3390.89342012, 39006.69596999,\n",
       "       11223.84478211,  4865.04204274,  6700.2924646 ,  2559.97681609,\n",
       "       25884.45292694, 14288.06007803,   435.08106925, 12682.72204443,\n",
       "       12748.74222039, 14952.21916205, 35052.75631715, 14390.94809722,\n",
       "       31660.1862235 ,  9911.10543529, 18103.23344774,  5841.15315197,\n",
       "        9009.61237193,  9256.68225353, 15367.74355077,  9001.04597822,\n",
       "        8308.57264147, 14934.15496741, 12761.07258295, 14755.05987542,\n",
       "        7352.51899731, 26088.98097292,  9295.93137048])"
      ]
     },
     "execution_count": 44,
     "metadata": {},
     "output_type": "execute_result"
    }
   ],
   "source": [
    "x_test_pred"
   ]
  },
  {
   "cell_type": "code",
   "execution_count": 45,
   "id": "cad04933",
   "metadata": {
    "execution": {
     "iopub.execute_input": "2022-07-05T18:13:25.123291Z",
     "iopub.status.busy": "2022-07-05T18:13:25.122901Z",
     "iopub.status.idle": "2022-07-05T18:13:25.131536Z",
     "shell.execute_reply": "2022-07-05T18:13:25.130414Z"
    },
    "papermill": {
     "duration": 0.065512,
     "end_time": "2022-07-05T18:13:25.133884",
     "exception": false,
     "start_time": "2022-07-05T18:13:25.068372",
     "status": "completed"
    },
    "tags": []
   },
   "outputs": [
    {
     "data": {
      "text/plain": [
       "764      9095.06825\n",
       "887      5272.17580\n",
       "890     29330.98315\n",
       "1293     9301.89355\n",
       "259     33750.29180\n",
       "           ...     \n",
       "342     13217.09450\n",
       "308     11944.59435\n",
       "1128    14358.36437\n",
       "503     32548.34050\n",
       "1197     5699.83750\n",
       "Name: charges, Length: 335, dtype: float64"
      ]
     },
     "execution_count": 45,
     "metadata": {},
     "output_type": "execute_result"
    }
   ],
   "source": [
    "y_test"
   ]
  },
  {
   "cell_type": "markdown",
   "id": "5dc0f6ec",
   "metadata": {
    "papermill": {
     "duration": 0.040551,
     "end_time": "2022-07-05T18:13:25.436303",
     "exception": false,
     "start_time": "2022-07-05T18:13:25.395752",
     "status": "completed"
    },
    "tags": []
   },
   "source": [
    "## Model Evaluation :- Linear Regression"
   ]
  },
  {
   "cell_type": "code",
   "execution_count": 46,
   "id": "17de32a0",
   "metadata": {
    "execution": {
     "iopub.execute_input": "2022-07-05T18:13:25.521608Z",
     "iopub.status.busy": "2022-07-05T18:13:25.521215Z",
     "iopub.status.idle": "2022-07-05T18:13:25.525698Z",
     "shell.execute_reply": "2022-07-05T18:13:25.524681Z"
    },
    "papermill": {
     "duration": 0.050324,
     "end_time": "2022-07-05T18:13:25.527933",
     "exception": false,
     "start_time": "2022-07-05T18:13:25.477609",
     "status": "completed"
    },
    "tags": []
   },
   "outputs": [],
   "source": [
    "from sklearn.metrics import r2_score,mean_squared_error,mean_absolute_error"
   ]
  },
  {
   "cell_type": "code",
   "execution_count": 47,
   "id": "6593becd",
   "metadata": {
    "execution": {
     "iopub.execute_input": "2022-07-05T18:13:25.804606Z",
     "iopub.status.busy": "2022-07-05T18:13:25.803268Z",
     "iopub.status.idle": "2022-07-05T18:13:25.813066Z",
     "shell.execute_reply": "2022-07-05T18:13:25.811057Z"
    },
    "papermill": {
     "duration": 0.055841,
     "end_time": "2022-07-05T18:13:25.815652",
     "exception": false,
     "start_time": "2022-07-05T18:13:25.759811",
     "status": "completed"
    },
    "tags": []
   },
   "outputs": [
    {
     "name": "stdout",
     "output_type": "stream",
     "text": [
      "Linear Regression testing score : 0.7668905583460908\n"
     ]
    }
   ],
   "source": [
    "## prediction on testing data\n",
    "\n",
    "test_score=r2_score(y_test,x_test_pred)\n",
    "\n",
    "print('Linear Regression testing score :',test_score)"
   ]
  },
  {
   "cell_type": "code",
   "execution_count": 48,
   "id": "3981ae5e",
   "metadata": {
    "execution": {
     "iopub.execute_input": "2022-07-05T18:13:25.991867Z",
     "iopub.status.busy": "2022-07-05T18:13:25.991498Z",
     "iopub.status.idle": "2022-07-05T18:13:25.998752Z",
     "shell.execute_reply": "2022-07-05T18:13:25.997624Z"
    },
    "papermill": {
     "duration": 0.051843,
     "end_time": "2022-07-05T18:13:26.001321",
     "exception": false,
     "start_time": "2022-07-05T18:13:25.949478",
     "status": "completed"
    },
    "tags": []
   },
   "outputs": [
    {
     "name": "stdout",
     "output_type": "stream",
     "text": [
      "MSE 35174149.32705307\n",
      "MAE 4252.856455792368\n"
     ]
    }
   ],
   "source": [
    "## mean squared error and mean absolute error of testing data\n",
    "\n",
    "print('MSE',mean_squared_error(y_test,x_test_pred))\n",
    "print('MAE',mean_absolute_error(y_test,x_test_pred))"
   ]
  },
  {
   "cell_type": "code",
   "execution_count": 49,
   "id": "e3a84f4e",
   "metadata": {
    "execution": {
     "iopub.execute_input": "2022-07-05T18:13:26.086088Z",
     "iopub.status.busy": "2022-07-05T18:13:26.085420Z",
     "iopub.status.idle": "2022-07-05T18:13:26.092122Z",
     "shell.execute_reply": "2022-07-05T18:13:26.090884Z"
    },
    "papermill": {
     "duration": 0.051419,
     "end_time": "2022-07-05T18:13:26.094712",
     "exception": false,
     "start_time": "2022-07-05T18:13:26.043293",
     "status": "completed"
    },
    "tags": []
   },
   "outputs": [
    {
     "name": "stdout",
     "output_type": "stream",
     "text": [
      "5930.779824530082\n"
     ]
    }
   ],
   "source": [
    "## Root mean squared error\n",
    "\n",
    "import math\n",
    "print(math.sqrt(mean_squared_error(y_test,x_test_pred)))"
   ]
  },
  {
   "cell_type": "code",
   "execution_count": 50,
   "id": "1eca676d",
   "metadata": {
    "execution": {
     "iopub.execute_input": "2022-07-05T18:13:26.180827Z",
     "iopub.status.busy": "2022-07-05T18:13:26.179925Z",
     "iopub.status.idle": "2022-07-05T18:13:26.185680Z",
     "shell.execute_reply": "2022-07-05T18:13:26.184970Z"
    },
    "papermill": {
     "duration": 0.050211,
     "end_time": "2022-07-05T18:13:26.187576",
     "exception": false,
     "start_time": "2022-07-05T18:13:26.137365",
     "status": "completed"
    },
    "tags": []
   },
   "outputs": [
    {
     "data": {
      "text/plain": [
       "((1003, 6), (335, 6))"
      ]
     },
     "execution_count": 50,
     "metadata": {},
     "output_type": "execute_result"
    }
   ],
   "source": [
    "x_train.shape,x_test.shape"
   ]
  },
  {
   "cell_type": "code",
   "execution_count": 51,
   "id": "a3626b7e",
   "metadata": {
    "execution": {
     "iopub.execute_input": "2022-07-05T18:13:26.272795Z",
     "iopub.status.busy": "2022-07-05T18:13:26.271903Z",
     "iopub.status.idle": "2022-07-05T18:13:26.277814Z",
     "shell.execute_reply": "2022-07-05T18:13:26.277147Z"
    },
    "papermill": {
     "duration": 0.050541,
     "end_time": "2022-07-05T18:13:26.279708",
     "exception": false,
     "start_time": "2022-07-05T18:13:26.229167",
     "status": "completed"
    },
    "tags": []
   },
   "outputs": [
    {
     "data": {
      "text/plain": [
       "0.7082530120481927"
      ]
     },
     "execution_count": 51,
     "metadata": {},
     "output_type": "execute_result"
    }
   ],
   "source": [
    "## adjusted r2 score\n",
    "\n",
    "train_adjusted_r2score=1-(1-0.71)*(1003-1)/(1003-6-1)\n",
    "train_adjusted_r2score"
   ]
  },
  {
   "cell_type": "code",
   "execution_count": 52,
   "id": "ee6cfc50",
   "metadata": {
    "execution": {
     "iopub.execute_input": "2022-07-05T18:13:26.366047Z",
     "iopub.status.busy": "2022-07-05T18:13:26.365454Z",
     "iopub.status.idle": "2022-07-05T18:13:26.371039Z",
     "shell.execute_reply": "2022-07-05T18:13:26.370396Z"
    },
    "papermill": {
     "duration": 0.050343,
     "end_time": "2022-07-05T18:13:26.372841",
     "exception": false,
     "start_time": "2022-07-05T18:13:26.322498",
     "status": "completed"
    },
    "tags": []
   },
   "outputs": [
    {
     "data": {
      "text/plain": [
       "0.7352439024390244"
      ]
     },
     "execution_count": 52,
     "metadata": {},
     "output_type": "execute_result"
    }
   ],
   "source": [
    "test_adjusted_r2score=1-(1-0.74)*(335-1)/(335-6-1)\n",
    "test_adjusted_r2score"
   ]
  },
  {
   "cell_type": "markdown",
   "id": "5e0c0bf3",
   "metadata": {
    "papermill": {
     "duration": 0.040234,
     "end_time": "2022-07-05T18:13:26.453964",
     "exception": false,
     "start_time": "2022-07-05T18:13:26.413730",
     "status": "completed"
    },
    "tags": []
   },
   "source": [
    "## Model Evaluation :- LASSO"
   ]
  },
  {
   "cell_type": "code",
   "execution_count": 53,
   "id": "aa8f610d",
   "metadata": {
    "execution": {
     "iopub.execute_input": "2022-07-05T18:14:38.622557Z",
     "iopub.status.busy": "2022-07-05T18:14:38.622157Z",
     "iopub.status.idle": "2022-07-05T18:14:38.626454Z",
     "shell.execute_reply": "2022-07-05T18:14:38.625463Z"
    },
    "papermill": {
     "duration": 0.056215,
     "end_time": "2022-07-05T18:14:38.628735",
     "exception": false,
     "start_time": "2022-07-05T18:14:38.572520",
     "status": "completed"
    },
    "tags": []
   },
   "outputs": [
    {
     "data": {
      "text/plain": [
       "Lasso(alpha=50, max_iter=100, tol=0.1)"
      ]
     },
     "execution_count": 53,
     "metadata": {},
     "output_type": "execute_result"
    }
   ],
   "source": [
    "from sklearn import linear_model\n",
    "lasso_reg = linear_model.Lasso(alpha=50, max_iter=100, tol=0.1)\n",
    "lasso_reg.fit(x_train, y_train)"
   ]
  },
  {
   "cell_type": "code",
   "execution_count": 54,
   "id": "4a35b495",
   "metadata": {},
   "outputs": [],
   "source": [
    "x_test_pred=lasso_reg.predict(x_test)"
   ]
  },
  {
   "cell_type": "code",
   "execution_count": 55,
   "id": "57d929ed",
   "metadata": {},
   "outputs": [
    {
     "name": "stdout",
     "output_type": "stream",
     "text": [
      "LASSO Regression testing score : 0.7661973983003518\n"
     ]
    }
   ],
   "source": [
    "## prediction on testing data\n",
    "\n",
    "test_score=r2_score(y_test,x_test_pred)\n",
    "\n",
    "print('LASSO Regression testing score :',test_score)"
   ]
  },
  {
   "cell_type": "code",
   "execution_count": 56,
   "id": "96691523",
   "metadata": {},
   "outputs": [
    {
     "name": "stdout",
     "output_type": "stream",
     "text": [
      "5939.590982243835\n"
     ]
    }
   ],
   "source": [
    "## Root mean squared error\n",
    "\n",
    "import math\n",
    "print(math.sqrt(mean_squared_error(y_test,x_test_pred)))"
   ]
  },
  {
   "cell_type": "markdown",
   "id": "5e9a7e65",
   "metadata": {},
   "source": [
    "## Model Evaluation :- RIDGE\n"
   ]
  },
  {
   "cell_type": "code",
   "execution_count": 57,
   "id": "f55aacdc",
   "metadata": {},
   "outputs": [
    {
     "data": {
      "text/plain": [
       "Ridge(alpha=50, max_iter=100, tol=0.1)"
      ]
     },
     "execution_count": 57,
     "metadata": {},
     "output_type": "execute_result"
    }
   ],
   "source": [
    "from sklearn.linear_model import Ridge\n",
    "ridge_reg= Ridge(alpha=50, max_iter=100, tol=0.1)\n",
    "ridge_reg.fit(x_train, y_train)\n"
   ]
  },
  {
   "cell_type": "code",
   "execution_count": 58,
   "id": "af274b26",
   "metadata": {},
   "outputs": [],
   "source": [
    "x_test_pred=ridge_reg.predict(x_test)"
   ]
  },
  {
   "cell_type": "code",
   "execution_count": 59,
   "id": "b5a47d34",
   "metadata": {},
   "outputs": [
    {
     "name": "stdout",
     "output_type": "stream",
     "text": [
      "Ridge Regression testing score : 0.7251469920349694\n"
     ]
    }
   ],
   "source": [
    "## prediction on testing data\n",
    "\n",
    "test_score=r2_score(y_test,x_test_pred)\n",
    "\n",
    "print('Ridge Regression testing score :',test_score)"
   ]
  },
  {
   "cell_type": "code",
   "execution_count": 60,
   "id": "a84fbd73",
   "metadata": {},
   "outputs": [
    {
     "name": "stdout",
     "output_type": "stream",
     "text": [
      "MSE: 41472883.623071246\n",
      "MAE: 4842.5972263464055\n"
     ]
    }
   ],
   "source": [
    "print('MSE:',mean_squared_error(y_test,x_test_pred))\n",
    "print('MAE:',mean_absolute_error(y_test,x_test_pred))"
   ]
  },
  {
   "cell_type": "code",
   "execution_count": 61,
   "id": "1dc35ccb",
   "metadata": {
    "papermill": {
     "duration": 0.048333,
     "end_time": "2022-07-05T18:14:39.572129",
     "exception": false,
     "start_time": "2022-07-05T18:14:39.523796",
     "status": "completed"
    },
    "tags": []
   },
   "outputs": [
    {
     "name": "stdout",
     "output_type": "stream",
     "text": [
      "6439.944380433052\n"
     ]
    }
   ],
   "source": [
    "\n",
    "import math\n",
    "print(math.sqrt(mean_squared_error(y_test,x_test_pred)))"
   ]
  },
  {
   "cell_type": "code",
   "execution_count": null,
   "id": "87eb782a",
   "metadata": {},
   "outputs": [],
   "source": []
  }
 ],
 "metadata": {
  "kernelspec": {
   "display_name": "Python 3 (ipykernel)",
   "language": "python",
   "name": "python3"
  },
  "language_info": {
   "codemirror_mode": {
    "name": "ipython",
    "version": 3
   },
   "file_extension": ".py",
   "mimetype": "text/x-python",
   "name": "python",
   "nbconvert_exporter": "python",
   "pygments_lexer": "ipython3",
   "version": "3.9.7"
  },
  "papermill": {
   "default_parameters": {},
   "duration": 98.114535,
   "end_time": "2022-07-05T18:14:42.239713",
   "environment_variables": {},
   "exception": null,
   "input_path": "__notebook__.ipynb",
   "output_path": "__notebook__.ipynb",
   "parameters": {},
   "start_time": "2022-07-05T18:13:04.125178",
   "version": "2.3.4"
  }
 },
 "nbformat": 4,
 "nbformat_minor": 5
}
