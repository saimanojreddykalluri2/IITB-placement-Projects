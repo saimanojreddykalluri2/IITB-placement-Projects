{
  "nbformat": 4,
  "nbformat_minor": 0,
  "metadata": {
    "colab": {
      "name": "DLNLP_Preprocess_A2",
      "provenance": []
    },
    "kernelspec": {
      "name": "python3",
      "display_name": "Python 3"
    },
    "language_info": {
      "name": "python"
    }
  },
  "cells": [
    {
      "cell_type": "code",
      "execution_count": null,
      "metadata": {
        "colab": {
          "base_uri": "https://localhost:8080/"
        },
        "id": "Gm3-RE0gmMLf",
        "outputId": "dd492243-f107-4fa7-89e6-1e7a1ec8031d"
      },
      "outputs": [
        {
          "output_type": "stream",
          "name": "stderr",
          "text": [
            "  1%|          | 4/442 [00:00<00:00, 719.31it/s]\n"
          ]
        }
      ],
      "source": [
        "import json\n",
        "import tqdm\n",
        "f = open('/content/drive/MyDrive/DLNLPA2/train-v2.0.json')\n",
        "\n",
        "data = json.load(f)\n",
        "flg=0\n",
        "for aid in tqdm.tqdm(range(len(data['data']))):\n",
        "    paragraphs = data['data'][aid]['paragraphs']\n",
        "                 \n",
        "    for pid in range(len(paragraphs)):\n",
        "        qas = paragraphs[pid]['qas']\n",
        "        for qid in range(len(qas)):\n",
        "            if(qid==0):\n",
        "                first_bool= qas[qid]['is_impossible']\n",
        "            if(qas[qid]['is_impossible']!=first_bool):\n",
        "                second_bool=qas[qid]['is_impossible']\n",
        "                flg=1\n",
        "                break\n",
        "        if(flg==1):\n",
        "            break\n",
        "    if(flg==1):\n",
        "        break  \n",
        "\n"
      ]
    },
    {
      "cell_type": "code",
      "source": [
        "\n",
        "Answerable_questions=[]\n",
        "Answerable_questions_context=[]\n",
        "Answerable_questions_id=[]\n",
        "count_AQ=0\n",
        "Unanswerable_questions=[]\n",
        "Unanswerable_questions_id=[]\n",
        "Unanswerable_questions_context=[]\n",
        "count_UQ=0\n",
        "Answers=[]\n",
        "count_A=0\n",
        "count_PA=0\n",
        "Plausible_Answers=[]\n",
        "for aid in tqdm.tqdm(range(len(data['data']))):\n",
        "    paragraphs = data['data'][aid]['paragraphs']\n",
        "                 \n",
        "    for pid in range(len(paragraphs)):\n",
        "        qas = paragraphs[pid]['qas']\n",
        "        context=paragraphs[pid]['context']\n",
        "        for qid in range(len(qas)):\n",
        "            flag=0\n",
        "            if(bool(qas[qid]['is_impossible'])==first_bool):\n",
        "                question_id=qas[qid]['id']\n",
        "                question = qas[qid]['question']\n",
        "                ques=question.split()\n",
        "\n",
        "                if((ques[0]=='what' or ques[0]=='who' or ques[0]=='when' or ques[0]=='where' or ques[0]=='What' or ques[0]=='Who' or ques[0]=='When' or ques[0]=='Where') or (len(ques)>1 and (ques[1]=='what' or ques[1]=='who' or ques[1]=='when' or ques[1]=='where' or ques[1]=='What' or ques[1]=='Who' or ques[1]=='When' or ques[1]=='Where'))):\n",
        "\n",
        "                    temp_ans=qas[qid]['answers'][0]['text']\n",
        "                    t=temp_ans.split()\n",
        "                    if(len(t)<=5):\n",
        "                        Answerable_questions.append(''.join([i if ord(i) < 128 else '' for i in question]))\n",
        "                        Answerable_questions_id.append(question_id)\n",
        "                        Answerable_questions_context.append(''.join([i if ord(i) < 128 else '' for i in context]))\n",
        "                        count_AQ=count_AQ+1\n",
        "                        Answers.append(''.join([i if ord(i) < 128 else '' for i in temp_ans]))\n",
        "                        count_A=count_A+1\n",
        "\n",
        "            if(bool(qas[qid]['is_impossible'])==second_bool):\n",
        "                \n",
        "                question = qas[qid]['question']\n",
        "                ques=question.split()\n",
        "                if((ques[0]=='what' or ques[0]=='who' or ques[0]=='when' or ques[0]=='where' or ques[0]=='What' or ques[0]=='Who' or ques[0]=='When' or ques[0]=='Where') or (len(ques)>1 and (ques[1]=='what' or ques[1]=='who' or ques[1]=='when' or ques[1]=='where' or ques[1]=='What' or ques[1]=='Who' or ques[1]=='When' or ques[1]=='Where'))):\n",
        "                    try:\n",
        "                      temp_ans=qas[qid]['plausible_answers'][0]['text']\n",
        "                    except:\n",
        "                      temp_ans=\"\"\n",
        "                      print(\"a\")\n",
        "                    t=temp_ans.split()\n",
        "                    if(len(t)<=5):\n",
        "                        Unanswerable_questions.append(question)\n",
        "                        Unanswerable_questions_id.append(question_id)\n",
        "                        Unanswerable_questions_context.append(context)\n",
        "                        Plausible_Answers.append(temp_ans)\n",
        "            \n",
        "\n",
        "#print(Answerable_questions)\n",
        "\n",
        "# Closing file\n",
        "f.close()"
      ],
      "metadata": {
        "colab": {
          "base_uri": "https://localhost:8080/"
        },
        "id": "9O8zO5NgmWVL",
        "outputId": "69b34335-d21f-49a6-e979-9d0097b79298"
      },
      "execution_count": null,
      "outputs": [
        {
          "output_type": "stream",
          "name": "stderr",
          "text": [
            "100%|██████████| 442/442 [00:06<00:00, 66.31it/s]\n"
          ]
        }
      ]
    },
    {
      "cell_type": "code",
      "source": [
        "# Answerable_questions_id\n",
        "# Answerable_questions\n",
        "# Answerable_questions_context\n",
        "# Answers\n",
        "input=[]\n",
        "for ques,context in zip(Answerable_questions,Answerable_questions_context):\n",
        "  input.append(ques.strip()+\" <SEP> \"+context.strip())"
      ],
      "metadata": {
        "id": "gI--hvG6rERO"
      },
      "execution_count": null,
      "outputs": []
    },
    {
      "cell_type": "code",
      "source": [
        "for txt in Answerable_questions:\n",
        "  if(len(txt.split())>100):\n",
        "    print(txt)\n",
        "    break"
      ],
      "metadata": {
        "id": "N6b6DTIeRexW"
      },
      "execution_count": null,
      "outputs": []
    },
    {
      "cell_type": "code",
      "source": [
        "import math\n",
        "# sum([len(txt) for txt in input_texts])/len([len(txt) for txt in input_texts])\n",
        "import numpy as np\n",
        "import matplotlib.pyplot as plt\n",
        "x =[len(str(txt).split()) for txt in Answerable_questions]\n",
        "n, bins, patches = plt.hist(x)\n",
        "plt.xlabel(\"# of words in question\")\n",
        "plt.ylabel(\"Frequency of sentences\")\n",
        "plt.show()"
      ],
      "metadata": {
        "colab": {
          "base_uri": "https://localhost:8080/",
          "height": 279
        },
        "id": "BxI_hp-xQidp",
        "outputId": "7c23607d-9c8c-4dd0-aa94-7c2b9377d72a"
      },
      "execution_count": null,
      "outputs": [
        {
          "output_type": "display_data",
          "data": {
            "image/png": "[encoded data removed]",
            "text/plain": [
              "<Figure size 432x288 with 1 Axes>"
            ]
          },
          "metadata": {
            "needs_background": "light"
          }
        }
      ]
    },
    {
      "cell_type": "code",
      "source": [
        ""
      ],
      "metadata": {
        "id": "ztuzV0cpQgcI"
      },
      "execution_count": null,
      "outputs": []
    },
    {
      "cell_type": "code",
      "source": [
        "other_input=[]\n",
        "for ques,context in zip(Unanswerable_questions,Unanswerable_questions_context):\n",
        "  other_input.append(ques.strip()+\" <SEP> \"+context.strip())"
      ],
      "metadata": {
        "id": "GRi39wVrv1co"
      },
      "execution_count": null,
      "outputs": []
    },
    {
      "cell_type": "code",
      "source": [
        "import pandas as pd\n",
        "data = {'id':Answerable_questions_id,\n",
        "        'input':input,\n",
        "        'output':Answers}\n",
        "df = pd.DataFrame(data)"
      ],
      "metadata": {
        "id": "0oP_66sdsvji"
      },
      "execution_count": null,
      "outputs": []
    },
    {
      "cell_type": "code",
      "source": [
        "df.to_csv(\"/content/drive/MyDrive/DLNLPA2/dev.csv\")"
      ],
      "metadata": {
        "id": "ioTbtgIGtatx"
      },
      "execution_count": null,
      "outputs": []
    },
    {
      "cell_type": "code",
      "source": [
        "import pandas as pd\n",
        "data = {'id':Answerable_questions_id[:1000]+Unanswerable_questions_id[:1000],\n",
        "        'input':input[:1000]+other_input[:1000],\n",
        "        'output':Answers[:1000]+Plausible_Answers[:1000]}\n",
        "df = pd.DataFrame(data)"
      ],
      "metadata": {
        "id": "AAgQGO0VvOYw"
      },
      "execution_count": null,
      "outputs": []
    },
    {
      "cell_type": "code",
      "source": [
        "df.to_csv(\"/content/drive/MyDrive/DLNLPA2/all_small_dev.csv\")"
      ],
      "metadata": {
        "id": "HVlcjiWuwONG"
      },
      "execution_count": null,
      "outputs": []
    },
    {
      "cell_type": "code",
      "source": [
        "len(Plausible_Answers)"
      ],
      "metadata": {
        "colab": {
          "base_uri": "https://localhost:8080/"
        },
        "id": "_gjG_YMmwUvu",
        "outputId": "b447d9d9-f21f-4817-8137-85e8e508af30"
      },
      "execution_count": null,
      "outputs": [
        {
          "output_type": "execute_result",
          "data": {
            "text/plain": [
              "3505"
            ]
          },
          "metadata": {},
          "execution_count": 11
        }
      ]
    }
  ]
}