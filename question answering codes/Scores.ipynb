{
  "nbformat": 4,
  "nbformat_minor": 0,
  "metadata": {
    "colab": {
      "name": "assignment2_scores",
      "provenance": [],
      "collapsed_sections": []
    },
    "kernelspec": {
      "name": "python3",
      "display_name": "Python 3"
    },
    "language_info": {
      "name": "python"
    }
  },
  "cells": [
    {
      "cell_type": "code",
      "source": [
        "from google.colab import drive\n",
        "drive.mount('/content/drive')"
      ],
      "metadata": {
        "colab": {
          "base_uri": "https://localhost:8080/"
        },
        "id": "gt0OFQMEn0GF",
        "outputId": "dfad2dbb-0b31-4483-ebca-904732120167"
      },
      "execution_count": null,
      "outputs": [
        {
          "output_type": "stream",
          "name": "stdout",
          "text": [
            "Drive already mounted at /content/drive; to attempt to forcibly remount, call drive.mount(\"/content/drive\", force_remount=True).\n"
          ]
        }
      ]
    },
    {
      "cell_type": "code",
      "source": [
        "import pandas as pd\n",
        "data = pd.read_csv ('/content/drive/MyDrive/oldarch_results.csv')  #change the file name accordingly\n"
      ],
      "metadata": {
        "id": "dY4U0icsn1PL"
      },
      "execution_count": null,
      "outputs": []
    },
    {
      "cell_type": "code",
      "source": [
        "questions=data['input']\n",
        "pred_output=data['pred_output']\n",
        "actual_output=data['actual_output']"
      ],
      "metadata": {
        "id": "l4kebYY1oPI1"
      },
      "execution_count": null,
      "outputs": []
    },
    {
      "cell_type": "code",
      "source": [
        "from nltk.stem import PorterStemmer\n",
        "from nltk.tokenize import word_tokenize\n",
        "  \n",
        "ps = PorterStemmer()\n",
        "\n",
        "# ps.stem(word)"
      ],
      "metadata": {
        "id": "daHszpABnjJc"
      },
      "execution_count": null,
      "outputs": []
    },
    {
      "cell_type": "code",
      "source": [
        "def FindMaxLength(A, B):                  # Finding longest common sub sequence\n",
        "    n = len(A)\n",
        "    m = len(B)\n",
        "    A = list(A)\n",
        "    B = list(B)\n",
        "    # Auxiliary dp[][] array\n",
        "    dp = [[0 for i in range(n + 1)] for i in range(m + 1)]\n",
        " \n",
        "    # Updating the dp[][] table\n",
        "    # in Bottom Up approach\n",
        "    for i in range(n - 1, -1, -1):\n",
        "        for j in range(m - 1, -1, -1):\n",
        " \n",
        "            # If A[i] is equal to B[i]\n",
        "            # then dp[j][i] = dp[j + 1][i + 1] + 1\n",
        "            if A[i] == B[j]:\n",
        "                dp[j][i] = dp[j + 1][i + 1] + 1\n",
        "    maxm = 0\n",
        " \n",
        "    # Find maximum of all the values\n",
        "    # in dp[][] array to get the\n",
        "    # maximum length\n",
        "    for i in dp:\n",
        "        for j in i:\n",
        " \n",
        "            # Update the length\n",
        "            maxm = max(maxm, j)\n",
        " \n",
        "    # Return the maximum length\n",
        "    return maxm"
      ],
      "metadata": {
        "id": "Sg-nqmz7VZMZ"
      },
      "execution_count": null,
      "outputs": []
    },
    {
      "cell_type": "code",
      "source": [
        "p=[]\n",
        "r=[]\n",
        "f1=[]\n",
        "p_who=[]\n",
        "r_who=[]\n",
        "f1_who=[]\n",
        "p_when=[]\n",
        "r_when=[]\n",
        "f1_when=[]\n",
        "p_what=[]\n",
        "r_what=[]\n",
        "f1_what=[]\n",
        "p_where=[]\n",
        "r_where=[]\n",
        "f1_where=[]\n",
        "curr_itr=0\n",
        "for question,pred,actual in zip(questions,pred_output,actual_output):\n",
        "  # curr_itr+=1\n",
        "  # if(curr_itr>1000):\n",
        "  #   break\n",
        "  questions_splits=str(question).split(' ')\n",
        "  pred_set = set(ps.stem(word) for word in str(pred).split(' '))\n",
        "  actual_set = set(ps.stem(word) for word in str(actual).split(' '))\n",
        "  # tp=len(pred_set.intersection(actual_set))\n",
        "  # fp=len(pred_set.difference(actual_set))\n",
        "  # fn=len(actual_set.difference(pred_set))\n",
        "  long_com = FindMaxLength(pred_set,actual_set)\n",
        "  try:\n",
        "    if questions_splits[0].lower()==\"what\" or questions_splits[1].lower()==\"what\":\n",
        "      p_what.append(long_com/len(pred_set))\n",
        "    if questions_splits[0].lower()==\"who\" or questions_splits[1].lower()==\"who\":\n",
        "      p_who.append(long_com/len(pred_set))\n",
        "    if questions_splits[0].lower()==\"where\" or questions_splits[1].lower()==\"where\":\n",
        "      p_where.append(long_com/len(pred_set))\n",
        "    if questions_splits[0].lower()==\"when\" or questions_splits[1].lower()==\"when\":\n",
        "      p_when.append(long_com/len(pred_set))\n",
        "    p.append(long_com/len(pred_set))\n",
        "  except:\n",
        "    if questions_splits[0].lower()==\"what\" or questions_splits[1].lower()==\"what\":\n",
        "      p_what.append(0)\n",
        "    if questions_splits[0].lower()==\"who\" or questions_splits[1].lower()==\"who\":\n",
        "      p_who.append(0)\n",
        "    if questions_splits[0].lower()==\"where\" or questions_splits[1].lower()==\"where\":\n",
        "      p_where.append(0)\n",
        "    if questions_splits[0].lower()==\"when\" or questions_splits[1].lower()==\"when\":\n",
        "      p_when.append(0)\n",
        "    p.append(0)\n",
        "  try:\n",
        "    if questions_splits[0].lower()==\"what\" or questions_splits[1].lower()==\"what\":\n",
        "      r_what.append(long_com/len(actual_set))\n",
        "    if questions_splits[0].lower()==\"who\" or questions_splits[1].lower()==\"who\":\n",
        "      r_who.append(long_com/len(actual_set))\n",
        "    if questions_splits[0].lower()==\"when\" or questions_splits[1].lower()==\"when\":\n",
        "      r_when.append(long_com/len(actual_set))\n",
        "    if questions_splits[0].lower()==\"where\" or questions_splits[1].lower()==\"where\":\n",
        "      r_where.append(long_com/len(actual_set))\n",
        "\n",
        "    r.append(long_com/len(actual_set))\n",
        "  except:\n",
        "    if questions_splits[0].lower()==\"what\" or questions_splits[1].lower()==\"what\":\n",
        "      r_what.append(0)\n",
        "    if questions_splits[0].lower()==\"who\" or questions_splits[1].lower()==\"who\":\n",
        "      r_who.append(0)\n",
        "    if questions_splits[0].lower()==\"when\" or questions_splits[1].lower()==\"when\":\n",
        "      r_when.append(0)\n",
        "    if questions_splits[0].lower()==\"where\" or questions_splits[1].lower()==\"where\":\n",
        "      r_where.append(0)\n",
        "    r.append(0)\n",
        "  try:\n",
        "    if questions_splits[0].lower()==\"what\" or questions_splits[1].lower()==\"what\":\n",
        "      f1_what.append(2*p_what[-1]*r_what[-1]/(p_what[-1]+r_what[-1]))\n",
        "    if questions_splits[0].lower()==\"who\" or questions_splits[1].lower()==\"who\":\n",
        "      f1_who.append(2*p_who[-1]*r_who[-1]/(p_who[-1]+r_who[-1]))\n",
        "    if questions_splits[0].lower()==\"when\" or questions_splits[1].lower()==\"when\":\n",
        "      f1_when.append(2*p_when[-1]*r_when[-1]/(p_when[-1]+r_when[-1]))\n",
        "    if questions_splits[0].lower()==\"where\" or questions_splits[1].lower()==\"where\":\n",
        "      f1_where.append(2*p_where[-1]*r_where[-1]/(p_where[-1]+r_where[-1]))\n",
        "    f1.append(2*p[-1]*r[-1]/(p[-1]+r[-1]))\n",
        "  except:\n",
        "    if questions_splits[0].lower()==\"what\" or questions_splits[1].lower()==\"what\":\n",
        "      f1_what.append(0)\n",
        "    if questions_splits[0].lower()==\"who\" or questions_splits[1].lower()==\"who\":\n",
        "      f1_who.append(0)\n",
        "    if questions_splits[0].lower()==\"when\" or questions_splits[1].lower()==\"when\":\n",
        "      f1_when.append(0)\n",
        "    if questions_splits[0].lower()==\"where\" or questions_splits[1].lower()==\"where\":\n",
        "      f1_where.append(0)\n",
        "    f1.append(0)\n",
        "\n",
        "\n",
        "# what\n",
        "print(\"Average Precision:\",sum(p_what)/len(p_what))\n",
        "print(\"Average Recall:\",sum(r_what)/len(r_what))\n",
        "print(\"Average F1:\",sum(f1_what)/len(f1_what))\n",
        "# who\n",
        "print(\"Average Precision:\",sum(p_who)/len(p_who))\n",
        "print(\"Average Recall:\",sum(r_who)/len(r_who))\n",
        "print(\"Average F1:\",sum(f1_who)/len(f1_who))\n",
        "# when\n",
        "print(\"Average Precision:\",sum(p_when)/len(p_when))\n",
        "print(\"Average Recall:\",sum(r_when)/len(r_when))\n",
        "print(\"Average F1:\",sum(f1_when)/len(f1_when))\n",
        "# where\n",
        "print(\"Average Precision:\",sum(p_where)/len(p_where))\n",
        "print(\"Average Recall:\",sum(r_where)/len(r_where))\n",
        "print(\"Average F1:\",sum(f1_where)/len(f1_where))"
      ],
      "metadata": {
        "colab": {
          "base_uri": "https://localhost:8080/"
        },
        "id": "k8-OnpKMUuTK",
        "outputId": "6a764c6d-d395-4aad-b323-fd7216903926"
      },
      "execution_count": null,
      "outputs": [
        {
          "output_type": "stream",
          "name": "stdout",
          "text": [
            "Average Precision: 0.013058079810351628\n",
            "Average Recall: 0.0159818253654682\n",
            "Average F1: 0.013955522944065008\n",
            "Average Precision: 0.0165083135391924\n",
            "Average Recall: 0.021615201900237524\n",
            "Average F1: 0.018220035440938052\n",
            "Average Precision: 0.012718089990817265\n",
            "Average Recall: 0.01818181818181818\n",
            "Average F1: 0.014086754995845906\n",
            "Average Precision: 0.008947368421052631\n",
            "Average Recall: 0.01043859649122807\n",
            "Average F1: 0.009482038429406852\n"
          ]
        }
      ]
    },
    {
      "cell_type": "code",
      "source": [
        "# All Data\n",
        "print(\"Average Precision:\",sum(p)/len(p))\n",
        "print(\"Average Recall:\",sum(r)/len(r))\n",
        "print(\"Average F1:\",sum(f1)/len(f1))"
      ],
      "metadata": {
        "colab": {
          "base_uri": "https://localhost:8080/"
        },
        "id": "nHECTyLDU3My",
        "outputId": "b66f4412-ef89-49d8-e845-9c6f388ccc62"
      },
      "execution_count": null,
      "outputs": [
        {
          "output_type": "stream",
          "name": "stdout",
          "text": [
            "Average Precision: 0.013214455539705192\n",
            "Average Recall: 0.016585829766999544\n",
            "Average F1: 0.014238842469940892\n"
          ]
        }
      ]
    },
    {
      "cell_type": "code",
      "source": [
        "p=[]\n",
        "r=[]\n",
        "f1=[]\n",
        "for pred,actual in zip(pred_output[:1000],actual_output[:1000]):\n",
        "  pred_set = set(str(pred).split(' '))\n",
        "  actual_set = set(str(actual).split(' '))\n",
        "  tp=len(pred_set.intersection(actual_set))\n",
        "  fp=len(pred_set.difference(actual_set))\n",
        "  fn=len(actual_set.difference(pred_set))\n",
        "  try:\n",
        "    p.append(tp/(tp+fp))\n",
        "  except:\n",
        "    p.append(0)\n",
        "  try:\n",
        "    r.append(tp/(tp+fn))\n",
        "  except:\n",
        "    r.append(0)\n",
        "  try:\n",
        "    f1.append(2*p[-1]*r[-1]/(p[-1]+r[-1]))\n",
        "  except:\n",
        "    f1.append(0)"
      ],
      "metadata": {
        "id": "Bm4Xhk69JX_j"
      },
      "execution_count": null,
      "outputs": []
    },
    {
      "cell_type": "code",
      "source": [
        "# Data\n",
        "print(\"Average Precision:\",sum(p)/len(p))\n",
        "print(\"Average Recall:\",sum(r)/len(r))\n",
        "print(\"Average F1:\",sum(f1)/len(f1))"
      ],
      "metadata": {
        "colab": {
          "base_uri": "https://localhost:8080/"
        },
        "id": "yYm7qyqvJmjD",
        "outputId": "b548b640-9490-424d-af2b-3ff8963bc647"
      },
      "execution_count": null,
      "outputs": [
        {
          "output_type": "stream",
          "name": "stdout",
          "text": [
            "Average Precision: 0.010933333333333333\n",
            "Average Recall: 0.01273333333333333\n",
            "Average F1: 0.011403174603174603\n"
          ]
        }
      ]
    }
  ]
}